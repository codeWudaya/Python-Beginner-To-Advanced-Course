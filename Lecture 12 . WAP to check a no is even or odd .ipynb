{
 "cells": [
  {
   "cell_type": "markdown",
   "id": "0056884a",
   "metadata": {},
   "source": [
    "# <a href='https://www.youtube.com/@codeXudaya'><img src='CodeXudaya.png'/></a>\n",
    "___\n",
    "<center><em>Content Copyright by codeXudaya</em></center>"
   ]
  },
  {
   "cell_type": "markdown",
   "id": "b195650e",
   "metadata": {},
   "source": [
    "## Lecture No 12"
   ]
  },
  {
   "cell_type": "markdown",
   "id": "c712dd13",
   "metadata": {},
   "source": [
    "## Selection statement\n",
    "* often referred to as conditional statements\n",
    "* allow a program to make decisions based on the evaluation of a condition.\n",
    "* They control the execution of different code blocks based on whether a specified condition is true or false.\n",
    "### Example\n",
    "* if\n",
    "* elif\n",
    "* else"
   ]
  },
  {
   "cell_type": "markdown",
   "id": "473ad331",
   "metadata": {},
   "source": [
    "### Wap To check a no is even or odd ?"
   ]
  },
  {
   "cell_type": "code",
   "execution_count": 7,
   "id": "11e00757",
   "metadata": {},
   "outputs": [
    {
     "name": "stdout",
     "output_type": "stream",
     "text": [
      "ENter a no :222\n",
      "222 no is even\n"
     ]
    }
   ],
   "source": [
    "num = int(input(\"ENter a no :\"))\n",
    "\n",
    "if num%2 == 0:\n",
    "    print(f\"{num} no is even\")\n",
    "else:\n",
    "    print(f\"{num} is odd\")"
   ]
  },
  {
   "cell_type": "code",
   "execution_count": 6,
   "id": "7e0eb670",
   "metadata": {},
   "outputs": [
    {
     "data": {
      "text/plain": [
       "1"
      ]
     },
     "execution_count": 6,
     "metadata": {},
     "output_type": "execute_result"
    }
   ],
   "source": [
    "33%2"
   ]
  },
  {
   "cell_type": "code",
   "execution_count": 8,
   "id": "98eabb2c",
   "metadata": {},
   "outputs": [
    {
     "data": {
      "text/plain": [
       "0"
      ]
     },
     "execution_count": 8,
     "metadata": {},
     "output_type": "execute_result"
    }
   ],
   "source": [
    "222%2"
   ]
  },
  {
   "cell_type": "markdown",
   "id": "5d8e0404",
   "metadata": {},
   "source": [
    "# codeXudaya\n",
    "\n",
    "[Subscribe to CodeXudaya on YouTube](https://www.youtube.com/@codeXudaya) \n",
    "-------------------------------------------------------------------------\n",
    "[Follow CodeXudaya on Instagram](https://www.instagram.com/codexudaya/)\n",
    "-------------------------------------------------------------------------"
   ]
  }
 ],
 "metadata": {
  "kernelspec": {
   "display_name": "Python 3 (ipykernel)",
   "language": "python",
   "name": "python3"
  },
  "language_info": {
   "codemirror_mode": {
    "name": "ipython",
    "version": 3
   },
   "file_extension": ".py",
   "mimetype": "text/x-python",
   "name": "python",
   "nbconvert_exporter": "python",
   "pygments_lexer": "ipython3",
   "version": "3.11.5"
  }
 },
 "nbformat": 4,
 "nbformat_minor": 5
}
