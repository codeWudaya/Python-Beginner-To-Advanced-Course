{
 "cells": [
  {
   "cell_type": "markdown",
   "id": "7c404ece",
   "metadata": {},
   "source": [
    "# <a href='https://www.youtube.com/@codeXudaya'><img src='CodeXudaya.png'/></a>\n",
    "___\n",
    "<center><em>Content Copyright by codeXudaya</em></center>\n",
    "\n",
    "# Python Beginner to Expert"
   ]
  },
  {
   "cell_type": "markdown",
   "id": "1280c370",
   "metadata": {},
   "source": [
    "# for Loops\n",
    "\n",
    "`for` loop acts as an iterator in Python; it goes through iterable item.\n",
    "\n",
    "* `Iterable Includes`\n",
    "* strings, lists, tuples, and dictionaries ."
   ]
  },
  {
   "cell_type": "markdown",
   "id": "93383cbc",
   "metadata": {},
   "source": [
    "## Lecture 22"
   ]
  },
  {
   "cell_type": "markdown",
   "id": "08797b27",
   "metadata": {},
   "source": [
    "### WAP to Print N Natural Number ?"
   ]
  },
  {
   "cell_type": "code",
   "execution_count": 1,
   "id": "d3b837ab",
   "metadata": {
    "scrolled": true
   },
   "outputs": [
    {
     "name": "stdout",
     "output_type": "stream",
     "text": [
      "Enter a num to which you want to print :5\n",
      "0\n",
      "1\n",
      "2\n",
      "3\n",
      "4\n",
      "5\n"
     ]
    }
   ],
   "source": [
    "num = int(input(\"Enter a num to which you want to print :\"))\n",
    "\n",
    "for i in range(0,num+1):\n",
    "    print(i)"
   ]
  },
  {
   "cell_type": "code",
   "execution_count": 3,
   "id": "91d22b67",
   "metadata": {},
   "outputs": [
    {
     "name": "stdout",
     "output_type": "stream",
     "text": [
      "Enter a num upto which you want to print :5\n",
      "0 1 2 3 4 "
     ]
    }
   ],
   "source": [
    "num = int(input(\"Enter a num upto which you want to print :\"))\n",
    "\n",
    "for i in range(0,num):\n",
    "    print(i ,end=\" \")"
   ]
  },
  {
   "cell_type": "markdown",
   "id": "64546037",
   "metadata": {},
   "source": [
    "### Next Lecture:\n",
    "####    N Natural no in Reverse Order"
   ]
  },
  {
   "cell_type": "markdown",
   "id": "1ec1618f",
   "metadata": {
    "collapsed": true
   },
   "source": [
    "## Let's code on Next Lecture!"
   ]
  },
  {
   "cell_type": "markdown",
   "id": "1664c0f8",
   "metadata": {},
   "source": [
    "# codeXudaya\n",
    "\n",
    "[Subscribe to CodeXudaya on YouTube](https://www.youtube.com/@codeXudaya) \n",
    "-------------------------------------------------------------------------\n",
    "[Follow CodeXudaya on Instagram](https://www.instagram.com/codexudaya/)\n",
    "-------------------------------------------------------------------------"
   ]
  }
 ],
 "metadata": {
  "kernelspec": {
   "display_name": "Python 3 (ipykernel)",
   "language": "python",
   "name": "python3"
  },
  "language_info": {
   "codemirror_mode": {
    "name": "ipython",
    "version": 3
   },
   "file_extension": ".py",
   "mimetype": "text/x-python",
   "name": "python",
   "nbconvert_exporter": "python",
   "pygments_lexer": "ipython3",
   "version": "3.11.5"
  }
 },
 "nbformat": 4,
 "nbformat_minor": 5
}
