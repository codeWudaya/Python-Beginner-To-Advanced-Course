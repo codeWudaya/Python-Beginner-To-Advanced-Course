{
 "cells": [
  {
   "cell_type": "markdown",
   "id": "78f1ecc6",
   "metadata": {},
   "source": [
    "# <a href='https://www.youtube.com/@codeXudaya'><img src='CodeXudaya.png'/></a>\n",
    "___\n",
    "<center><em>Content Copyright by codeXudaya</em></center>"
   ]
  },
  {
   "cell_type": "markdown",
   "id": "8f482caf",
   "metadata": {},
   "source": [
    "# Python Beginner to Expert."
   ]
  },
  {
   "cell_type": "markdown",
   "id": "e5d8eddf",
   "metadata": {},
   "source": [
    "# Dynamic Typing\n",
    "\n",
    "Python use *dynamic typing*, meaning you can reassign variables to different data types. This makes Python very flexible in assigning data types; it differs from other languages that are *statically typed*."
   ]
  },
  {
   "cell_type": "code",
   "execution_count": 3,
   "id": "c349b6f0",
   "metadata": {},
   "outputs": [
    {
     "data": {
      "text/plain": [
       "list"
      ]
     },
     "execution_count": 3,
     "metadata": {},
     "output_type": "execute_result"
    }
   ],
   "source": [
    "a = [4,6,7,8,9]\n",
    "type(a)"
   ]
  },
  {
   "cell_type": "code",
   "execution_count": 5,
   "id": "cf5967bb",
   "metadata": {},
   "outputs": [
    {
     "data": {
      "text/plain": [
       "tuple"
      ]
     },
     "execution_count": 5,
     "metadata": {},
     "output_type": "execute_result"
    }
   ],
   "source": [
    "a = (2,5,7)\n",
    "type(a)"
   ]
  },
  {
   "cell_type": "code",
   "execution_count": 6,
   "id": "4276e79d",
   "metadata": {},
   "outputs": [
    {
     "data": {
      "text/plain": [
       "(2, 5, 7)"
      ]
     },
     "execution_count": 6,
     "metadata": {},
     "output_type": "execute_result"
    }
   ],
   "source": [
    "a"
   ]
  },
  {
   "cell_type": "markdown",
   "id": "d2c40b45",
   "metadata": {},
   "source": [
    "# Pros of Dynamic Typing\n",
    "* very easy to work with\n",
    "* faster development time\n",
    "\n",
    "## Cons of Dynamic Typing\n",
    "* may result in unexpected bugs !\n",
    "* you need to be aware of `type()`"
   ]
  },
  {
   "cell_type": "markdown",
   "id": "479853a3",
   "metadata": {},
   "source": [
    "# Data Types"
   ]
  },
  {
   "cell_type": "markdown",
   "id": "438cb6dc",
   "metadata": {},
   "source": [
    "# <a href='https://www.youtube.com/@codeXudaya'><img src='data types.png'/></a>\n",
    "___\n",
    "<center><em>Content Copyright by codeXudaya</em></center>"
   ]
  },
  {
   "cell_type": "code",
   "execution_count": null,
   "id": "a037caa8",
   "metadata": {},
   "outputs": [],
   "source": []
  },
  {
   "cell_type": "markdown",
   "id": "35dcc6fc",
   "metadata": {},
   "source": [
    "Determining variable type with `type()`"
   ]
  },
  {
   "cell_type": "markdown",
   "id": "c7b6436d",
   "metadata": {},
   "source": [
    "# Numeric Types:\n",
    "\n",
    "* int: Integer type, e.g., x = 5\n",
    "* float: Floating-point type, e.g., y = 3.14\n",
    "* complex: Complex number type, e.g., z = 2 + 3j"
   ]
  },
  {
   "cell_type": "code",
   "execution_count": 8,
   "id": "14ec89a0",
   "metadata": {},
   "outputs": [
    {
     "data": {
      "text/plain": [
       "int"
      ]
     },
     "execution_count": 8,
     "metadata": {},
     "output_type": "execute_result"
    }
   ],
   "source": [
    "x = 5\n",
    "type(x)"
   ]
  },
  {
   "cell_type": "code",
   "execution_count": 9,
   "id": "5ab8f66c",
   "metadata": {},
   "outputs": [
    {
     "data": {
      "text/plain": [
       "float"
      ]
     },
     "execution_count": 9,
     "metadata": {},
     "output_type": "execute_result"
    }
   ],
   "source": [
    "x = 5.55\n",
    "type(x)"
   ]
  },
  {
   "cell_type": "code",
   "execution_count": 11,
   "id": "57bb626d",
   "metadata": {},
   "outputs": [
    {
     "data": {
      "text/plain": [
       "complex"
      ]
     },
     "execution_count": 11,
     "metadata": {},
     "output_type": "execute_result"
    }
   ],
   "source": [
    "z = 2+3j\n",
    "type(z)"
   ]
  },
  {
   "cell_type": "markdown",
   "id": "c562a106",
   "metadata": {},
   "source": [
    "# Sequence Types:\n",
    "\n",
    "* str: String type, e.g., name = \"John\"\n",
    "* list: List type, e.g., numbers = [1, 2, 3]\n",
    "* tuple: Tuple type, e.g., point = (10, 20)"
   ]
  },
  {
   "cell_type": "code",
   "execution_count": 13,
   "id": "de7a53e8",
   "metadata": {},
   "outputs": [
    {
     "data": {
      "text/plain": [
       "str"
      ]
     },
     "execution_count": 13,
     "metadata": {},
     "output_type": "execute_result"
    }
   ],
   "source": [
    "name = \"codeXudaya\"\n",
    "type(name)"
   ]
  },
  {
   "cell_type": "code",
   "execution_count": 14,
   "id": "a34f7c33",
   "metadata": {},
   "outputs": [
    {
     "data": {
      "text/plain": [
       "str"
      ]
     },
     "execution_count": 14,
     "metadata": {},
     "output_type": "execute_result"
    }
   ],
   "source": [
    "name = \"1234\"\n",
    "type(name)"
   ]
  },
  {
   "cell_type": "code",
   "execution_count": 16,
   "id": "d8ae1773",
   "metadata": {},
   "outputs": [
    {
     "data": {
      "text/plain": [
       "list"
      ]
     },
     "execution_count": 16,
     "metadata": {},
     "output_type": "execute_result"
    }
   ],
   "source": [
    "numbers = [1,2,3]\n",
    "type(numbers)"
   ]
  },
  {
   "cell_type": "code",
   "execution_count": 17,
   "id": "99a2fb81",
   "metadata": {},
   "outputs": [
    {
     "data": {
      "text/plain": [
       "tuple"
      ]
     },
     "execution_count": 17,
     "metadata": {},
     "output_type": "execute_result"
    }
   ],
   "source": [
    "numbers = (1,2,3)\n",
    "type(numbers)"
   ]
  },
  {
   "cell_type": "markdown",
   "id": "beeb1c21",
   "metadata": {},
   "source": [
    "# Set Types:\n",
    "\n",
    "set: Unordered collection of unique elements, e.g., my_set = {1, 2, 3}"
   ]
  },
  {
   "cell_type": "code",
   "execution_count": 18,
   "id": "773c925c",
   "metadata": {},
   "outputs": [
    {
     "data": {
      "text/plain": [
       "set"
      ]
     },
     "execution_count": 18,
     "metadata": {},
     "output_type": "execute_result"
    }
   ],
   "source": [
    "my_set = {1,2,3}\n",
    "type(my_set)"
   ]
  },
  {
   "cell_type": "markdown",
   "id": "ae26ef8b",
   "metadata": {},
   "source": [
    "# Mapping Type:\n",
    "\n",
    "dict: Dictionary type, e.g., person = {'name': 'John', 'age': 25}\n"
   ]
  },
  {
   "cell_type": "code",
   "execution_count": 19,
   "id": "02f8bb5e",
   "metadata": {},
   "outputs": [
    {
     "data": {
      "text/plain": [
       "{'name': 'uday', 'age': 31, 'hobby': 'coding'}"
      ]
     },
     "execution_count": 19,
     "metadata": {},
     "output_type": "execute_result"
    }
   ],
   "source": [
    "person = {'name':'uday','age':31,'hobby':'coding'}\n",
    "person"
   ]
  },
  {
   "cell_type": "markdown",
   "id": "790fd4d3",
   "metadata": {},
   "source": [
    "# Boolean Type:\n",
    "\n",
    "bool: Boolean type, representing True or False e.g is_adult =True"
   ]
  },
  {
   "cell_type": "code",
   "execution_count": 21,
   "id": "5725dcf4",
   "metadata": {},
   "outputs": [
    {
     "data": {
      "text/plain": [
       "bool"
      ]
     },
     "execution_count": 21,
     "metadata": {},
     "output_type": "execute_result"
    }
   ],
   "source": [
    "is_adult = True\n",
    "type(is_adult)"
   ]
  },
  {
   "cell_type": "code",
   "execution_count": 23,
   "id": "2f6abe9a",
   "metadata": {},
   "outputs": [
    {
     "data": {
      "text/plain": [
       "False"
      ]
     },
     "execution_count": 23,
     "metadata": {},
     "output_type": "execute_result"
    }
   ],
   "source": [
    "is_adult = False\n",
    "is_adult"
   ]
  },
  {
   "cell_type": "markdown",
   "id": "cbf3b66d",
   "metadata": {},
   "source": [
    "# None Type:\n",
    "\n",
    "NoneType: Represents the absence of a value, often used as a default return value."
   ]
  },
  {
   "cell_type": "code",
   "execution_count": 26,
   "id": "bf106c42",
   "metadata": {},
   "outputs": [
    {
     "data": {
      "text/plain": [
       "NoneType"
      ]
     },
     "execution_count": 26,
     "metadata": {},
     "output_type": "execute_result"
    }
   ],
   "source": [
    "# None Type\n",
    "no_value = None\n",
    "\n",
    "type(no_value)"
   ]
  },
  {
   "cell_type": "code",
   "execution_count": null,
   "id": "3ba849cd",
   "metadata": {},
   "outputs": [],
   "source": []
  },
  {
   "cell_type": "code",
   "execution_count": null,
   "id": "618cfe82",
   "metadata": {},
   "outputs": [],
   "source": []
  },
  {
   "cell_type": "code",
   "execution_count": null,
   "id": "9e59b02e",
   "metadata": {},
   "outputs": [],
   "source": []
  },
  {
   "cell_type": "code",
   "execution_count": null,
   "id": "84fe7342",
   "metadata": {},
   "outputs": [],
   "source": []
  }
 ],
 "metadata": {
  "kernelspec": {
   "display_name": "Python 3 (ipykernel)",
   "language": "python",
   "name": "python3"
  },
  "language_info": {
   "codemirror_mode": {
    "name": "ipython",
    "version": 3
   },
   "file_extension": ".py",
   "mimetype": "text/x-python",
   "name": "python",
   "nbconvert_exporter": "python",
   "pygments_lexer": "ipython3",
   "version": "3.11.5"
  }
 },
 "nbformat": 4,
 "nbformat_minor": 5
}
