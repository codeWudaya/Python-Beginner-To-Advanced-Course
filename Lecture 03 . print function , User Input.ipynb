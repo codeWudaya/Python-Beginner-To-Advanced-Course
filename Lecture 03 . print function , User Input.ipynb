{
 "cells": [
  {
   "cell_type": "markdown",
   "id": "0056884a",
   "metadata": {},
   "source": [
    "# <a href='https://www.youtube.com/@codeXudaya'><img src='CodeXudaya.png'/></a>\n",
    "___\n",
    "<center><em>Content Copyright by codeXudaya</em></center>"
   ]
  },
  {
   "cell_type": "markdown",
   "id": "f6f624e2",
   "metadata": {},
   "source": [
    "# Lecture 03\n",
    "# Python Beginner to Expert"
   ]
  },
  {
   "cell_type": "markdown",
   "id": "e7c29739",
   "metadata": {},
   "source": [
    "# Print Function\n",
    "\n",
    "## The `print` Statement\n",
    "\n",
    "The `print` statement is used in Python to display the output of a program. It can be used to print strings, variables, and expressions."
   ]
  },
  {
   "cell_type": "code",
   "execution_count": 5,
   "id": "7a904306",
   "metadata": {},
   "outputs": [
    {
     "name": "stdout",
     "output_type": "stream",
     "text": [
      "codeXudaya\n"
     ]
    }
   ],
   "source": [
    "print(\"codeXudaya\")"
   ]
  },
  {
   "cell_type": "code",
   "execution_count": 6,
   "id": "f163ceb9",
   "metadata": {},
   "outputs": [
    {
     "name": "stdout",
     "output_type": "stream",
     "text": [
      "codeXudaya\n"
     ]
    }
   ],
   "source": [
    "print('codeXudaya')"
   ]
  },
  {
   "cell_type": "code",
   "execution_count": 7,
   "id": "ae0c2d50",
   "metadata": {},
   "outputs": [
    {
     "name": "stdout",
     "output_type": "stream",
     "text": [
      "CXU\n"
     ]
    }
   ],
   "source": [
    "a = \"CXU\"\n",
    "print(a)"
   ]
  },
  {
   "cell_type": "code",
   "execution_count": 8,
   "id": "68cdce36",
   "metadata": {},
   "outputs": [
    {
     "name": "stdout",
     "output_type": "stream",
     "text": [
      "codeXudaya\n"
     ]
    }
   ],
   "source": [
    "b = 'codeXudaya'\n",
    "\n",
    "print(b)"
   ]
  },
  {
   "cell_type": "code",
   "execution_count": 9,
   "id": "362a58aa",
   "metadata": {},
   "outputs": [
    {
     "name": "stdout",
     "output_type": "stream",
     "text": [
      "100\n"
     ]
    }
   ],
   "source": [
    "num1 = 20\n",
    "num2 = 80\n",
    "num3 = num1+num2\n",
    "\n",
    "print(num3)"
   ]
  },
  {
   "cell_type": "markdown",
   "id": "9e489f7a",
   "metadata": {},
   "source": [
    "# Taking User Input"
   ]
  },
  {
   "cell_type": "code",
   "execution_count": 11,
   "id": "952bcf6f",
   "metadata": {},
   "outputs": [
    {
     "name": "stdout",
     "output_type": "stream",
     "text": [
      "Enter a no :67\n",
      "67\n"
     ]
    },
    {
     "data": {
      "text/plain": [
       "str"
      ]
     },
     "execution_count": 11,
     "metadata": {},
     "output_type": "execute_result"
    }
   ],
   "source": [
    "num = input(\"Enter a no :\")\n",
    "print(num)\n",
    "\n",
    "type(num)"
   ]
  },
  {
   "cell_type": "code",
   "execution_count": 12,
   "id": "5673bd26",
   "metadata": {},
   "outputs": [
    {
     "name": "stdout",
     "output_type": "stream",
     "text": [
      "Enter a no :code\n",
      "code\n"
     ]
    },
    {
     "data": {
      "text/plain": [
       "str"
      ]
     },
     "execution_count": 12,
     "metadata": {},
     "output_type": "execute_result"
    }
   ],
   "source": [
    "num = input(\"Enter a no :\")\n",
    "print(num)\n",
    "\n",
    "type(num)"
   ]
  },
  {
   "cell_type": "markdown",
   "id": "e84e035f",
   "metadata": {},
   "source": [
    "Type Conversion"
   ]
  },
  {
   "cell_type": "code",
   "execution_count": 14,
   "id": "05f3f55a",
   "metadata": {},
   "outputs": [
    {
     "name": "stdout",
     "output_type": "stream",
     "text": [
      "Enter a no :77\n",
      "77\n"
     ]
    },
    {
     "data": {
      "text/plain": [
       "int"
      ]
     },
     "execution_count": 14,
     "metadata": {},
     "output_type": "execute_result"
    }
   ],
   "source": [
    "num1 = int(input(\"Enter a no :\"))\n",
    "print(num1)\n",
    "\n",
    "type(num1)"
   ]
  },
  {
   "cell_type": "code",
   "execution_count": 17,
   "id": "4954a6cf",
   "metadata": {},
   "outputs": [
    {
     "name": "stdout",
     "output_type": "stream",
     "text": [
      "Enter a no :66\n",
      "66\n"
     ]
    },
    {
     "data": {
      "text/plain": [
       "int"
      ]
     },
     "execution_count": 17,
     "metadata": {},
     "output_type": "execute_result"
    }
   ],
   "source": [
    "num1 = int(input(\"Enter a no :\"))\n",
    "print(num1)\n",
    "\n",
    "type(num1)"
   ]
  },
  {
   "cell_type": "markdown",
   "id": "37c00d6f",
   "metadata": {},
   "source": [
    "so we see if `int` type conversion is assigned we can't use `float` or `str` values as input . it will show error"
   ]
  },
  {
   "cell_type": "code",
   "execution_count": 19,
   "id": "2ed6185a",
   "metadata": {},
   "outputs": [
    {
     "name": "stdout",
     "output_type": "stream",
     "text": [
      "Enter a no :77.77\n",
      "77.77\n"
     ]
    },
    {
     "data": {
      "text/plain": [
       "float"
      ]
     },
     "execution_count": 19,
     "metadata": {},
     "output_type": "execute_result"
    }
   ],
   "source": [
    "num1 = float(input(\"Enter a no :\"))\n",
    "print(num1)\n",
    "\n",
    "type(num1)"
   ]
  },
  {
   "cell_type": "code",
   "execution_count": 20,
   "id": "f77d2192",
   "metadata": {},
   "outputs": [
    {
     "name": "stdout",
     "output_type": "stream",
     "text": [
      "Enter a no :88\n",
      "88.0\n"
     ]
    },
    {
     "data": {
      "text/plain": [
       "float"
      ]
     },
     "execution_count": 20,
     "metadata": {},
     "output_type": "execute_result"
    }
   ],
   "source": [
    "num1 = float(input(\"Enter a no :\"))\n",
    "print(num1)\n",
    "\n",
    "type(num1)"
   ]
  },
  {
   "cell_type": "markdown",
   "id": "2e6b71f7",
   "metadata": {},
   "source": [
    "so we see if `float` type conversion is assigned we can't use `str` as input but can use `int`."
   ]
  },
  {
   "cell_type": "markdown",
   "id": "efb5a6d7",
   "metadata": {},
   "source": [
    "# let's combine print() and input()"
   ]
  },
  {
   "cell_type": "code",
   "execution_count": 21,
   "id": "55f0956f",
   "metadata": {},
   "outputs": [
    {
     "name": "stdout",
     "output_type": "stream",
     "text": [
      "my age is 21\n"
     ]
    }
   ],
   "source": [
    "age =21\n",
    "\n",
    "# my age is 21\n",
    "\n",
    "print('my age is',age)"
   ]
  },
  {
   "cell_type": "code",
   "execution_count": null,
   "id": "d88d55b6",
   "metadata": {},
   "outputs": [],
   "source": []
  },
  {
   "cell_type": "markdown",
   "id": "15faffc7",
   "metadata": {},
   "source": [
    "# WAP to add two no by taking user input"
   ]
  },
  {
   "cell_type": "code",
   "execution_count": 23,
   "id": "75a8a99d",
   "metadata": {},
   "outputs": [
    {
     "name": "stdout",
     "output_type": "stream",
     "text": [
      "Enter 1st no :4\n",
      "Enter 2nd no :88\n",
      "result is  92\n"
     ]
    }
   ],
   "source": [
    "no_one=int(input(\"Enter 1st no :\"))\n",
    "no_two=int(input(\"Enter 2nd no :\"))\n",
    "\n",
    "summ=no_one+no_two\n",
    "print(\"result is \",summ)"
   ]
  },
  {
   "cell_type": "markdown",
   "id": "011e670a",
   "metadata": {},
   "source": [
    "# Exercise\n",
    "WAP to substract two no by taking user input !! Comment me the solution to get a Heart From CodeXudaya ."
   ]
  },
  {
   "cell_type": "code",
   "execution_count": null,
   "id": "5169bbd1",
   "metadata": {},
   "outputs": [],
   "source": []
  },
  {
   "cell_type": "markdown",
   "id": "a179338b",
   "metadata": {},
   "source": [
    "Great! now We understand the print() Function and get know how to take user input ..."
   ]
  },
  {
   "cell_type": "markdown",
   "id": "5d8e0404",
   "metadata": {},
   "source": [
    "# codeXudaya\n",
    "\n",
    "[Subscribe to CodeXudaya on YouTube](https://www.youtube.com/@codeXudaya) \n",
    "-------------------------------------------------------------------------\n",
    "[Follow CodeXudaya on Instagram](https://www.instagram.com/codexudaya/)\n",
    "-------------------------------------------------------------------------"
   ]
  }
 ],
 "metadata": {
  "kernelspec": {
   "display_name": "Python 3 (ipykernel)",
   "language": "python",
   "name": "python3"
  },
  "language_info": {
   "codemirror_mode": {
    "name": "ipython",
    "version": 3
   },
   "file_extension": ".py",
   "mimetype": "text/x-python",
   "name": "python",
   "nbconvert_exporter": "python",
   "pygments_lexer": "ipython3",
   "version": "3.11.5"
  }
 },
 "nbformat": 4,
 "nbformat_minor": 5
}
