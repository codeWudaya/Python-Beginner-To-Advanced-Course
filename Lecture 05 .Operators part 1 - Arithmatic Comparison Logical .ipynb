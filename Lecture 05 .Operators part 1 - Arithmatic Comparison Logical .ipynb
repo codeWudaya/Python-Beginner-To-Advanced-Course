{
 "cells": [
  {
   "cell_type": "markdown",
   "id": "ef927b79",
   "metadata": {},
   "source": [
    "# <a href='https://www.youtube.com/@codeXudaya'><img src='CodeXudaya.png'/></a>\n",
    "___\n",
    "<center><em>Content Copyright by codeXudaya</em></center>"
   ]
  },
  {
   "cell_type": "markdown",
   "id": "c2b903d0",
   "metadata": {},
   "source": [
    "# Lecture no - 5 \n",
    "# Python Beginner to Expert"
   ]
  },
  {
   "cell_type": "markdown",
   "id": "604665d2",
   "metadata": {},
   "source": [
    "# ---------------------Operators Part 1."
   ]
  },
  {
   "cell_type": "markdown",
   "id": "a8bdf70d",
   "metadata": {},
   "source": [
    "# Operators\n",
    "* Arithmatic Operators\n",
    "* Comparison Operators\n",
    "* Logical Operators\n",
    "* Assignment Operators\n",
    "* Membership Operators\n",
    "* Identity Operators"
   ]
  },
  {
   "cell_type": "markdown",
   "id": "c1391a75",
   "metadata": {},
   "source": [
    "# Arithmetic Opeartor\n",
    "* Addition +\n",
    "* Subtraction -\n",
    "* Multiplication *\n",
    "* Division /\n",
    "* Floor Division //\n",
    "* Modulo %\n",
    "* Powers **\n",
    "* roots this way **0.5"
   ]
  },
  {
   "cell_type": "markdown",
   "id": "9c3d00fa",
   "metadata": {},
   "source": [
    "Addition +"
   ]
  },
  {
   "cell_type": "code",
   "execution_count": 1,
   "id": "40944e0e",
   "metadata": {},
   "outputs": [
    {
     "data": {
      "text/plain": [
       "5"
      ]
     },
     "execution_count": 1,
     "metadata": {},
     "output_type": "execute_result"
    }
   ],
   "source": [
    "3 + 2"
   ]
  },
  {
   "cell_type": "markdown",
   "id": "3912f2e9",
   "metadata": {},
   "source": [
    "Subtraction -"
   ]
  },
  {
   "cell_type": "code",
   "execution_count": 2,
   "id": "23a1c38f",
   "metadata": {},
   "outputs": [
    {
     "data": {
      "text/plain": [
       "1"
      ]
     },
     "execution_count": 2,
     "metadata": {},
     "output_type": "execute_result"
    }
   ],
   "source": [
    "3 - 2"
   ]
  },
  {
   "cell_type": "markdown",
   "id": "74cdcbab",
   "metadata": {},
   "source": [
    "Multiplication *"
   ]
  },
  {
   "cell_type": "code",
   "execution_count": 3,
   "id": "e76b4375",
   "metadata": {},
   "outputs": [
    {
     "data": {
      "text/plain": [
       "6"
      ]
     },
     "execution_count": 3,
     "metadata": {},
     "output_type": "execute_result"
    }
   ],
   "source": [
    "3 * 2"
   ]
  },
  {
   "cell_type": "markdown",
   "id": "136d44e6",
   "metadata": {},
   "source": [
    "Division /"
   ]
  },
  {
   "cell_type": "code",
   "execution_count": 6,
   "id": "4353fd02",
   "metadata": {},
   "outputs": [
    {
     "data": {
      "text/plain": [
       "16.5"
      ]
     },
     "execution_count": 6,
     "metadata": {},
     "output_type": "execute_result"
    }
   ],
   "source": [
    "66 / 4"
   ]
  },
  {
   "cell_type": "markdown",
   "id": "39733685",
   "metadata": {},
   "source": [
    "Floor Division //\n"
   ]
  },
  {
   "cell_type": "code",
   "execution_count": 7,
   "id": "6d75e788",
   "metadata": {},
   "outputs": [
    {
     "data": {
      "text/plain": [
       "1"
      ]
     },
     "execution_count": 7,
     "metadata": {},
     "output_type": "execute_result"
    }
   ],
   "source": [
    "3 // 2"
   ]
  },
  {
   "cell_type": "markdown",
   "id": "6f4d3d67",
   "metadata": {},
   "source": [
    "remainder after division?\n",
    "Modulo"
   ]
  },
  {
   "cell_type": "code",
   "execution_count": 8,
   "id": "28eb3a0a",
   "metadata": {},
   "outputs": [
    {
     "data": {
      "text/plain": [
       "1"
      ]
     },
     "execution_count": 8,
     "metadata": {},
     "output_type": "execute_result"
    }
   ],
   "source": [
    "3 % 2"
   ]
  },
  {
   "cell_type": "code",
   "execution_count": 9,
   "id": "86dce537",
   "metadata": {},
   "outputs": [
    {
     "data": {
      "text/plain": [
       "0"
      ]
     },
     "execution_count": 9,
     "metadata": {},
     "output_type": "execute_result"
    }
   ],
   "source": [
    "3 % 3"
   ]
  },
  {
   "cell_type": "markdown",
   "id": "8bc7b292",
   "metadata": {},
   "source": [
    "Powers **"
   ]
  },
  {
   "cell_type": "code",
   "execution_count": 10,
   "id": "864609b0",
   "metadata": {},
   "outputs": [
    {
     "data": {
      "text/plain": [
       "9"
      ]
     },
     "execution_count": 10,
     "metadata": {},
     "output_type": "execute_result"
    }
   ],
   "source": [
    "3 ** 2"
   ]
  },
  {
   "cell_type": "markdown",
   "id": "df4612b9",
   "metadata": {},
   "source": [
    "Can also do roots this way **0.5"
   ]
  },
  {
   "cell_type": "code",
   "execution_count": 12,
   "id": "65fbc74c",
   "metadata": {},
   "outputs": [
    {
     "data": {
      "text/plain": [
       "100.0"
      ]
     },
     "execution_count": 12,
     "metadata": {},
     "output_type": "execute_result"
    }
   ],
   "source": [
    "10000 **0.5"
   ]
  },
  {
   "cell_type": "markdown",
   "id": "685fe8ad",
   "metadata": {},
   "source": [
    "**Great! we learn Arithmatic operators at it's best."
   ]
  },
  {
   "cell_type": "markdown",
   "id": "bfe153ff",
   "metadata": {},
   "source": [
    "# Comparison Operators \n",
    "\n",
    "<table class=\"table table-bordered\">\n",
    "<tr>\n",
    "<th style=\"width:10%\">Operator</th><th style=\"width:45%\">Description</th><th>Example</th>\n",
    "</tr>\n",
    "<tr>\n",
    "<td>==</td>\n",
    "<td>If the values of two operands are equal, then the condition becomes true.</td>\n",
    "<td> (a == b) is not true.</td>\n",
    "</tr>\n",
    "<tr>\n",
    "<td>!=</td>\n",
    "<td>If values of two operands are not equal, then condition becomes true.</td>\n",
    "<td>(a != b) is true</td>\n",
    "</tr>\n",
    "<tr>\n",
    "<td>&gt;</td>\n",
    "<td>If the value of left operand is greater than the value of right operand, then condition becomes true.</td>\n",
    "<td> (a &gt; b) is not true.</td>\n",
    "</tr>\n",
    "<tr>\n",
    "<td>&lt;</td>\n",
    "<td>If the value of left operand is less than the value of right operand, then condition becomes true.</td>\n",
    "<td> (a &lt; b) is true.</td>\n",
    "</tr>\n",
    "<tr>\n",
    "<td>&gt;=</td>\n",
    "<td>If the value of left operand is greater than or equal to the value of right operand, then condition becomes true.</td>\n",
    "<td> (a &gt;= b) is not true. </td>\n",
    "</tr>\n",
    "<tr>\n",
    "<td>&lt;=</td>\n",
    "<td>If the value of left operand is less than or equal to the value of right operand, then condition becomes true.</td>\n",
    "<td> (a &lt;= b) is true. </td>\n",
    "</tr>\n",
    "</table>"
   ]
  },
  {
   "cell_type": "code",
   "execution_count": null,
   "id": "cde6c099",
   "metadata": {},
   "outputs": [],
   "source": []
  },
  {
   "cell_type": "markdown",
   "id": "3bb8146c",
   "metadata": {},
   "source": [
    "#### Equal\n",
    "If the values of two operands are equal, then the condition becomes true"
   ]
  },
  {
   "cell_type": "markdown",
   "id": "05ff9058",
   "metadata": {},
   "source": [
    "* Note that <code>==</code> is a comparison operator, \n",
    "* But <code>=</code> is an assignment operator."
   ]
  },
  {
   "cell_type": "code",
   "execution_count": 13,
   "id": "d24ecd75",
   "metadata": {},
   "outputs": [
    {
     "data": {
      "text/plain": [
       "True"
      ]
     },
     "execution_count": 13,
     "metadata": {},
     "output_type": "execute_result"
    }
   ],
   "source": [
    "2 == 2"
   ]
  },
  {
   "cell_type": "code",
   "execution_count": 14,
   "id": "5f2e2281",
   "metadata": {},
   "outputs": [
    {
     "data": {
      "text/plain": [
       "False"
      ]
     },
     "execution_count": 14,
     "metadata": {},
     "output_type": "execute_result"
    }
   ],
   "source": [
    "2 == 3"
   ]
  },
  {
   "cell_type": "markdown",
   "id": "70f06328",
   "metadata": {},
   "source": [
    "#### Not Equal\n",
    "If values of two operands are not equal, then condition becomes true.\t"
   ]
  },
  {
   "cell_type": "code",
   "execution_count": 15,
   "id": "01149280",
   "metadata": {},
   "outputs": [
    {
     "data": {
      "text/plain": [
       "False"
      ]
     },
     "execution_count": 15,
     "metadata": {},
     "output_type": "execute_result"
    }
   ],
   "source": [
    "2 != 2"
   ]
  },
  {
   "cell_type": "code",
   "execution_count": 16,
   "id": "c027cdb0",
   "metadata": {},
   "outputs": [
    {
     "data": {
      "text/plain": [
       "True"
      ]
     },
     "execution_count": 16,
     "metadata": {},
     "output_type": "execute_result"
    }
   ],
   "source": [
    "2 != 3"
   ]
  },
  {
   "cell_type": "markdown",
   "id": "92f76f2d",
   "metadata": {},
   "source": [
    "#### Greater Than\n",
    "if the value of left operand is greater than the value of right operand, then condition becomes true."
   ]
  },
  {
   "cell_type": "code",
   "execution_count": 17,
   "id": "192a9ce6",
   "metadata": {},
   "outputs": [
    {
     "data": {
      "text/plain": [
       "False"
      ]
     },
     "execution_count": 17,
     "metadata": {},
     "output_type": "execute_result"
    }
   ],
   "source": [
    "2 > 3"
   ]
  },
  {
   "cell_type": "code",
   "execution_count": 18,
   "id": "e9536e27",
   "metadata": {
    "scrolled": true
   },
   "outputs": [
    {
     "data": {
      "text/plain": [
       "True"
      ]
     },
     "execution_count": 18,
     "metadata": {},
     "output_type": "execute_result"
    }
   ],
   "source": [
    "3 > 2"
   ]
  },
  {
   "cell_type": "markdown",
   "id": "83981e60",
   "metadata": {},
   "source": [
    "#### Less Than\n",
    "If the value of left operand is less than the value of right operand, then condition becomes true."
   ]
  },
  {
   "cell_type": "code",
   "execution_count": 19,
   "id": "dfaa778a",
   "metadata": {},
   "outputs": [
    {
     "data": {
      "text/plain": [
       "True"
      ]
     },
     "execution_count": 19,
     "metadata": {},
     "output_type": "execute_result"
    }
   ],
   "source": [
    "2 < 3"
   ]
  },
  {
   "cell_type": "code",
   "execution_count": 20,
   "id": "375e4ffd",
   "metadata": {},
   "outputs": [
    {
     "data": {
      "text/plain": [
       "False"
      ]
     },
     "execution_count": 20,
     "metadata": {},
     "output_type": "execute_result"
    }
   ],
   "source": [
    "3 < 2"
   ]
  },
  {
   "cell_type": "markdown",
   "id": "e6827759",
   "metadata": {},
   "source": [
    "#### Greater Than or Equal to\n",
    "If the value of left operand is greater than or equal to the value of right operand, then condition becomes true.\t"
   ]
  },
  {
   "cell_type": "code",
   "execution_count": 21,
   "id": "a553b424",
   "metadata": {},
   "outputs": [
    {
     "data": {
      "text/plain": [
       "False"
      ]
     },
     "execution_count": 21,
     "metadata": {},
     "output_type": "execute_result"
    }
   ],
   "source": [
    "2 >= 3"
   ]
  },
  {
   "cell_type": "code",
   "execution_count": 22,
   "id": "84d37500",
   "metadata": {},
   "outputs": [
    {
     "data": {
      "text/plain": [
       "True"
      ]
     },
     "execution_count": 22,
     "metadata": {},
     "output_type": "execute_result"
    }
   ],
   "source": [
    "3 >= 2"
   ]
  },
  {
   "cell_type": "code",
   "execution_count": 23,
   "id": "8630f3a1",
   "metadata": {},
   "outputs": [
    {
     "data": {
      "text/plain": [
       "True"
      ]
     },
     "execution_count": 23,
     "metadata": {},
     "output_type": "execute_result"
    }
   ],
   "source": [
    "2 >= 2"
   ]
  },
  {
   "cell_type": "markdown",
   "id": "78919d32",
   "metadata": {},
   "source": [
    "#### Less than or Equal to\n",
    "If the value of left operand is less than or equal to the value of right operand, then condition becomes true.\n"
   ]
  },
  {
   "cell_type": "code",
   "execution_count": 24,
   "id": "d893a72c",
   "metadata": {},
   "outputs": [
    {
     "data": {
      "text/plain": [
       "True"
      ]
     },
     "execution_count": 24,
     "metadata": {},
     "output_type": "execute_result"
    }
   ],
   "source": [
    "2 <= 3"
   ]
  },
  {
   "cell_type": "code",
   "execution_count": 25,
   "id": "7bed561b",
   "metadata": {},
   "outputs": [
    {
     "data": {
      "text/plain": [
       "False"
      ]
     },
     "execution_count": 25,
     "metadata": {},
     "output_type": "execute_result"
    }
   ],
   "source": [
    "3 <= 2"
   ]
  },
  {
   "cell_type": "code",
   "execution_count": 26,
   "id": "44009b5e",
   "metadata": {},
   "outputs": [
    {
     "data": {
      "text/plain": [
       "True"
      ]
     },
     "execution_count": 26,
     "metadata": {},
     "output_type": "execute_result"
    }
   ],
   "source": [
    "2 <= 2"
   ]
  },
  {
   "cell_type": "markdown",
   "id": "b30715de",
   "metadata": {},
   "source": [
    "**Great! we learn comparison operator at it's best."
   ]
  },
  {
   "cell_type": "markdown",
   "id": "57bef963",
   "metadata": {},
   "source": [
    "# Logical Operators\n",
    "* AND: and\n",
    "* OR: or\n",
    "* Not: not"
   ]
  },
  {
   "cell_type": "markdown",
   "id": "6b9cf9e9",
   "metadata": {},
   "source": [
    "# * and (Logical AND):\n",
    "The and operator returns True if both operands are true, and False otherwise.\n",
    " - Example:"
   ]
  },
  {
   "cell_type": "code",
   "execution_count": 27,
   "id": "0a928939",
   "metadata": {},
   "outputs": [
    {
     "data": {
      "text/plain": [
       "True"
      ]
     },
     "execution_count": 27,
     "metadata": {},
     "output_type": "execute_result"
    }
   ],
   "source": [
    "a = True\n",
    "b = True\n",
    "a and b"
   ]
  },
  {
   "cell_type": "code",
   "execution_count": 28,
   "id": "5628b486",
   "metadata": {},
   "outputs": [
    {
     "data": {
      "text/plain": [
       "False"
      ]
     },
     "execution_count": 28,
     "metadata": {},
     "output_type": "execute_result"
    }
   ],
   "source": [
    "a = True\n",
    "b = False\n",
    "a and b"
   ]
  },
  {
   "cell_type": "code",
   "execution_count": null,
   "id": "6823783e",
   "metadata": {},
   "outputs": [],
   "source": []
  },
  {
   "cell_type": "markdown",
   "id": "315eaf6f",
   "metadata": {},
   "source": [
    "# * or (Logical OR):\n",
    "The or operator returns True if <code> at least one <code/> of the operands is true, and False if both are false.\n",
    "- Example:"
   ]
  },
  {
   "cell_type": "code",
   "execution_count": 30,
   "id": "3e9224ec",
   "metadata": {},
   "outputs": [
    {
     "data": {
      "text/plain": [
       "True"
      ]
     },
     "execution_count": 30,
     "metadata": {},
     "output_type": "execute_result"
    }
   ],
   "source": [
    "a = True\n",
    "b = True\n",
    "a or b"
   ]
  },
  {
   "cell_type": "code",
   "execution_count": 31,
   "id": "087187e1",
   "metadata": {},
   "outputs": [
    {
     "data": {
      "text/plain": [
       "True"
      ]
     },
     "execution_count": 31,
     "metadata": {},
     "output_type": "execute_result"
    }
   ],
   "source": [
    "a = True\n",
    "b = False\n",
    "a or b"
   ]
  },
  {
   "cell_type": "code",
   "execution_count": 32,
   "id": "f6252748",
   "metadata": {},
   "outputs": [
    {
     "data": {
      "text/plain": [
       "False"
      ]
     },
     "execution_count": 32,
     "metadata": {},
     "output_type": "execute_result"
    }
   ],
   "source": [
    "a = False\n",
    "b = False\n",
    "a or b"
   ]
  },
  {
   "cell_type": "markdown",
   "id": "1d247f34",
   "metadata": {},
   "source": [
    "# NOT: not \n",
    "- This operator returns True if the operand is false, and False if the operand is true."
   ]
  },
  {
   "cell_type": "code",
   "execution_count": 33,
   "id": "2355486b",
   "metadata": {},
   "outputs": [
    {
     "data": {
      "text/plain": [
       "False"
      ]
     },
     "execution_count": 33,
     "metadata": {},
     "output_type": "execute_result"
    }
   ],
   "source": [
    "x = True\n",
    "not x"
   ]
  },
  {
   "cell_type": "code",
   "execution_count": 34,
   "id": "7d2d4809",
   "metadata": {},
   "outputs": [
    {
     "data": {
      "text/plain": [
       "True"
      ]
     },
     "execution_count": 34,
     "metadata": {},
     "output_type": "execute_result"
    }
   ],
   "source": [
    "x = False\n",
    "not x"
   ]
  },
  {
   "cell_type": "markdown",
   "id": "5d8e0404",
   "metadata": {},
   "source": [
    "# codeXudaya\n",
    "\n",
    "[Subscribe to CodeXudaya on YouTube](https://www.youtube.com/@codeXudaya) \n",
    "-------------------------------------------------------------------------\n",
    "[Follow CodeXudaya on Instagram](https://www.instagram.com/codexudaya/)\n",
    "-------------------------------------------------------------------------"
   ]
  }
 ],
 "metadata": {
  "kernelspec": {
   "display_name": "Python 3 (ipykernel)",
   "language": "python",
   "name": "python3"
  },
  "language_info": {
   "codemirror_mode": {
    "name": "ipython",
    "version": 3
   },
   "file_extension": ".py",
   "mimetype": "text/x-python",
   "name": "python",
   "nbconvert_exporter": "python",
   "pygments_lexer": "ipython3",
   "version": "3.11.5"
  }
 },
 "nbformat": 4,
 "nbformat_minor": 5
}
