{
 "cells": [
  {
   "cell_type": "markdown",
   "id": "7c404ece",
   "metadata": {},
   "source": [
    "# <a href='https://www.youtube.com/@codeXudaya'><img src='CodeXudaya.png'/></a>\n",
    "___\n",
    "<center><em>Content Copyright by codeXudaya</em></center>\n",
    "\n",
    "# Python Beginner to Expert"
   ]
  },
  {
   "cell_type": "markdown",
   "id": "acc555c3",
   "metadata": {},
   "source": [
    "## Statements\n",
    "* Selection Statement\n",
    "* Looping Statement"
   ]
  },
  {
   "cell_type": "markdown",
   "id": "2a560ae8",
   "metadata": {},
   "source": [
    "# Lecture 19"
   ]
  },
  {
   "cell_type": "markdown",
   "id": "42d45b21",
   "metadata": {},
   "source": [
    "### Looping Statements\n",
    "\n",
    "* Looping statements, or loops, allow a program to repeatedly execute a block of code as long as a certain condition is true. \n",
    "* They are used to automate repetitive tasks and to iterate over a sequence of elements."
   ]
  },
  {
   "cell_type": "markdown",
   "id": "fcd7fa5f",
   "metadata": {},
   "source": [
    "### Examples\n",
    "* for Loop\n",
    "* while Loop"
   ]
  },
  {
   "cell_type": "markdown",
   "id": "1280c370",
   "metadata": {},
   "source": [
    "# for Loops\n",
    "\n",
    "`for` loop acts as an iterator in Python; it goes through iterable item.\n",
    "\n",
    "* `Iterable Includes`\n",
    "* strings, lists, tuples, and dictionaries ."
   ]
  },
  {
   "cell_type": "code",
   "execution_count": null,
   "id": "c64eca5f",
   "metadata": {},
   "outputs": [],
   "source": [
    "# `syntax`\n",
    "for variable in iterable:\n",
    "    # code to be executed for each element in the iterable"
   ]
  },
  {
   "cell_type": "markdown",
   "id": "735e3c66",
   "metadata": {},
   "source": [
    "`range(start, stop, step)`"
   ]
  },
  {
   "cell_type": "markdown",
   "id": "1269428c",
   "metadata": {},
   "source": [
    "## `while Loops`\n",
    "* code to be executed as long as the condition is true"
   ]
  },
  {
   "cell_type": "code",
   "execution_count": null,
   "id": "30a2b1d9",
   "metadata": {},
   "outputs": [],
   "source": [
    "`syntax`\n",
    "\n",
    "while condition:\n",
    "    \n",
    "    # code to be executed as long as the condition is true"
   ]
  },
  {
   "cell_type": "markdown",
   "id": "1664c0f8",
   "metadata": {},
   "source": [
    "# codeXudaya\n",
    "\n",
    "[Subscribe to CodeXudaya on YouTube](https://www.youtube.com/@codeXudaya) \n",
    "-------------------------------------------------------------------------\n",
    "[Follow CodeXudaya on Instagram](https://www.instagram.com/codexudaya/)\n",
    "-------------------------------------------------------------------------"
   ]
  }
 ],
 "metadata": {
  "kernelspec": {
   "display_name": "Python 3 (ipykernel)",
   "language": "python",
   "name": "python3"
  },
  "language_info": {
   "codemirror_mode": {
    "name": "ipython",
    "version": 3
   },
   "file_extension": ".py",
   "mimetype": "text/x-python",
   "name": "python",
   "nbconvert_exporter": "python",
   "pygments_lexer": "ipython3",
   "version": "3.11.5"
  }
 },
 "nbformat": 4,
 "nbformat_minor": 5
}
