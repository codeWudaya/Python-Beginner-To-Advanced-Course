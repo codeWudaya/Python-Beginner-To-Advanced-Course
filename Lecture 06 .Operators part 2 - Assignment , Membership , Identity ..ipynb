{
 "cells": [
  {
   "cell_type": "markdown",
   "id": "ef927b79",
   "metadata": {},
   "source": [
    "# <a href='https://www.youtube.com/@codeXudaya'><img src='CodeXudaya.png'/></a>\n",
    "___\n",
    "<center><em>Content Copyright by codeXudaya</em></center>"
   ]
  },
  {
   "cell_type": "markdown",
   "id": "459b14e2",
   "metadata": {},
   "source": [
    "# Lecture no - 6 \n",
    "# Python Beginner to Expert"
   ]
  },
  {
   "cell_type": "markdown",
   "id": "3c0af13c",
   "metadata": {},
   "source": [
    "# ---------------------Operators Part 2."
   ]
  },
  {
   "cell_type": "markdown",
   "id": "c81ce148",
   "metadata": {},
   "source": [
    "# Operators\n",
    "* Arithmatic Operators\n",
    "* Comparison Operators\n",
    "* Logical Operators\n",
    "* `Assignment Operators`\n",
    "* `Membership Operators`\n",
    "* `Identity Operators`"
   ]
  },
  {
   "cell_type": "markdown",
   "id": "8d468a4d",
   "metadata": {},
   "source": [
    "# Assignment Opeartor\n",
    "* = (assignment) \n",
    "* +=, -=, *=, /= (compound assignment)"
   ]
  },
  {
   "cell_type": "markdown",
   "id": "3b7e0b3c",
   "metadata": {},
   "source": [
    "`= (assignment)`\n",
    "\n",
    "* Assigns the value on the right to the variable on the left."
   ]
  },
  {
   "cell_type": "code",
   "execution_count": 1,
   "id": "40944e0e",
   "metadata": {},
   "outputs": [
    {
     "data": {
      "text/plain": [
       "10"
      ]
     },
     "execution_count": 1,
     "metadata": {},
     "output_type": "execute_result"
    }
   ],
   "source": [
    "a = 10\n",
    "a"
   ]
  },
  {
   "cell_type": "code",
   "execution_count": 2,
   "id": "23a1c38f",
   "metadata": {},
   "outputs": [
    {
     "data": {
      "text/plain": [
       "20"
      ]
     },
     "execution_count": 2,
     "metadata": {},
     "output_type": "execute_result"
    }
   ],
   "source": [
    "b = 20\n",
    "b"
   ]
  },
  {
   "cell_type": "markdown",
   "id": "79cb48e6",
   "metadata": {},
   "source": [
    " `+=, -=, *=, /= (compound assignment)`"
   ]
  },
  {
   "cell_type": "code",
   "execution_count": 3,
   "id": "e76b4375",
   "metadata": {},
   "outputs": [
    {
     "name": "stdout",
     "output_type": "stream",
     "text": [
      "35\n"
     ]
    }
   ],
   "source": [
    "c = 30\n",
    "c = c+5\n",
    "print(c)"
   ]
  },
  {
   "cell_type": "code",
   "execution_count": 4,
   "id": "2bcf87e9",
   "metadata": {},
   "outputs": [
    {
     "name": "stdout",
     "output_type": "stream",
     "text": [
      "35\n"
     ]
    }
   ],
   "source": [
    "c = 30\n",
    "c += 5\n",
    "print(c)"
   ]
  },
  {
   "cell_type": "code",
   "execution_count": 5,
   "id": "d1b0a7e9",
   "metadata": {},
   "outputs": [
    {
     "name": "stdout",
     "output_type": "stream",
     "text": [
      "150\n"
     ]
    }
   ],
   "source": [
    "c = 30\n",
    "c = c * 5\n",
    "print(c)"
   ]
  },
  {
   "cell_type": "code",
   "execution_count": 6,
   "id": "c4ef8e19",
   "metadata": {},
   "outputs": [
    {
     "name": "stdout",
     "output_type": "stream",
     "text": [
      "150\n"
     ]
    }
   ],
   "source": [
    "c = 30\n",
    "c *= 5\n",
    "print(c)"
   ]
  },
  {
   "cell_type": "markdown",
   "id": "b496ba22",
   "metadata": {},
   "source": [
    "**Great! we learn assignment operator at it's best."
   ]
  },
  {
   "cell_type": "markdown",
   "id": "838ffee1",
   "metadata": {},
   "source": [
    "# Membership Operators \n",
    "* in \n",
    "* not in"
   ]
  },
  {
   "cell_type": "markdown",
   "id": "4c6efbc4",
   "metadata": {},
   "source": [
    "`in`\n",
    "* Returns True if a value is found in the sequence, False otherwise."
   ]
  },
  {
   "cell_type": "code",
   "execution_count": 7,
   "id": "0a6d20cf",
   "metadata": {},
   "outputs": [
    {
     "data": {
      "text/plain": [
       "True"
      ]
     },
     "execution_count": 7,
     "metadata": {},
     "output_type": "execute_result"
    }
   ],
   "source": [
    "lst = [1,3,6,7,8]\n",
    "3 in lst"
   ]
  },
  {
   "cell_type": "code",
   "execution_count": 8,
   "id": "892dd095",
   "metadata": {},
   "outputs": [
    {
     "data": {
      "text/plain": [
       "False"
      ]
     },
     "execution_count": 8,
     "metadata": {},
     "output_type": "execute_result"
    }
   ],
   "source": [
    "lst = [1,3,6,7,8]\n",
    "33 in lst"
   ]
  },
  {
   "cell_type": "markdown",
   "id": "38a24804",
   "metadata": {},
   "source": [
    "`not in`\n",
    "* Returns True if a value is not found in the sequence, False otherwise"
   ]
  },
  {
   "cell_type": "code",
   "execution_count": 9,
   "id": "424f798f",
   "metadata": {},
   "outputs": [
    {
     "data": {
      "text/plain": [
       "False"
      ]
     },
     "execution_count": 9,
     "metadata": {},
     "output_type": "execute_result"
    }
   ],
   "source": [
    "lst = [1,3,6,7,8]\n",
    "3 not in lst"
   ]
  },
  {
   "cell_type": "code",
   "execution_count": 10,
   "id": "9a0904ce",
   "metadata": {},
   "outputs": [
    {
     "data": {
      "text/plain": [
       "True"
      ]
     },
     "execution_count": 10,
     "metadata": {},
     "output_type": "execute_result"
    }
   ],
   "source": [
    "lst = [1,3,6,7,8]\n",
    "33 not in lst"
   ]
  },
  {
   "cell_type": "markdown",
   "id": "3415bfbc",
   "metadata": {},
   "source": [
    "**Great! we learn membership operator at it's best."
   ]
  },
  {
   "cell_type": "markdown",
   "id": "c345129a",
   "metadata": {},
   "source": [
    "# Identity Operators\n",
    "* is\n",
    "* is not"
   ]
  },
  {
   "cell_type": "markdown",
   "id": "74efec1d",
   "metadata": {},
   "source": [
    "`is`\n",
    "* Returns True if the variables on either side of the operator point to the same object, False otherwise."
   ]
  },
  {
   "cell_type": "code",
   "execution_count": 11,
   "id": "ce424c94",
   "metadata": {},
   "outputs": [
    {
     "data": {
      "text/plain": [
       "True"
      ]
     },
     "execution_count": 11,
     "metadata": {},
     "output_type": "execute_result"
    }
   ],
   "source": [
    "a = [2,4,5]\n",
    "b = a\n",
    "\n",
    "a is b"
   ]
  },
  {
   "cell_type": "code",
   "execution_count": 12,
   "id": "16374989",
   "metadata": {},
   "outputs": [
    {
     "data": {
      "text/plain": [
       "False"
      ]
     },
     "execution_count": 12,
     "metadata": {},
     "output_type": "execute_result"
    }
   ],
   "source": [
    "a = [2,4,5]\n",
    "b = [2,4,5]\n",
    "a is b"
   ]
  },
  {
   "cell_type": "code",
   "execution_count": 13,
   "id": "a44583cc",
   "metadata": {},
   "outputs": [
    {
     "data": {
      "text/plain": [
       "1225952366720"
      ]
     },
     "execution_count": 13,
     "metadata": {},
     "output_type": "execute_result"
    }
   ],
   "source": [
    "a = [2,4,5]\n",
    "id(a)"
   ]
  },
  {
   "cell_type": "code",
   "execution_count": 14,
   "id": "5dc864ff",
   "metadata": {},
   "outputs": [
    {
     "data": {
      "text/plain": [
       "1225953028480"
      ]
     },
     "execution_count": 14,
     "metadata": {},
     "output_type": "execute_result"
    }
   ],
   "source": [
    "b = [2,4,5]\n",
    "id(b)"
   ]
  },
  {
   "cell_type": "code",
   "execution_count": null,
   "id": "5c646c92",
   "metadata": {},
   "outputs": [],
   "source": []
  },
  {
   "cell_type": "markdown",
   "id": "5c85a105",
   "metadata": {},
   "source": [
    "`is not`\n",
    "* Returns True if the variables on either side of the operator point to different objects, False otherwise"
   ]
  },
  {
   "cell_type": "code",
   "execution_count": 15,
   "id": "1d092994",
   "metadata": {},
   "outputs": [
    {
     "data": {
      "text/plain": [
       "False"
      ]
     },
     "execution_count": 15,
     "metadata": {},
     "output_type": "execute_result"
    }
   ],
   "source": [
    "a = [2,4,5]\n",
    "b = a\n",
    "\n",
    "a is not b"
   ]
  },
  {
   "cell_type": "code",
   "execution_count": 16,
   "id": "774ecda1",
   "metadata": {},
   "outputs": [
    {
     "data": {
      "text/plain": [
       "True"
      ]
     },
     "execution_count": 16,
     "metadata": {},
     "output_type": "execute_result"
    }
   ],
   "source": [
    "a = [2,4,5]\n",
    "b = [2,4,5]\n",
    "a is not b"
   ]
  },
  {
   "cell_type": "markdown",
   "id": "29e98844",
   "metadata": {},
   "source": [
    "**Great! we learn Identity operator at it's best."
   ]
  },
  {
   "cell_type": "markdown",
   "id": "5d8e0404",
   "metadata": {},
   "source": [
    "# codeXudaya\n",
    "\n",
    "[Subscribe to CodeXudaya on YouTube](https://www.youtube.com/@codeXudaya) \n",
    "-------------------------------------------------------------------------\n",
    "[Follow CodeXudaya on Instagram](https://www.instagram.com/codexudaya/)\n",
    "-------------------------------------------------------------------------"
   ]
  },
  {
   "cell_type": "code",
   "execution_count": null,
   "id": "f24b206d",
   "metadata": {},
   "outputs": [],
   "source": []
  }
 ],
 "metadata": {
  "kernelspec": {
   "display_name": "Python 3 (ipykernel)",
   "language": "python",
   "name": "python3"
  },
  "language_info": {
   "codemirror_mode": {
    "name": "ipython",
    "version": 3
   },
   "file_extension": ".py",
   "mimetype": "text/x-python",
   "name": "python",
   "nbconvert_exporter": "python",
   "pygments_lexer": "ipython3",
   "version": "3.11.5"
  }
 },
 "nbformat": 4,
 "nbformat_minor": 5
}
