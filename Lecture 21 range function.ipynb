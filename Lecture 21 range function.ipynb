{
 "cells": [
  {
   "cell_type": "markdown",
   "id": "7c404ece",
   "metadata": {},
   "source": [
    "# <a href='https://www.youtube.com/@codeXudaya'><img src='CodeXudaya.png'/></a>\n",
    "___\n",
    "<center><em>Content Copyright by codeXudaya</em></center>\n",
    "\n",
    "# Python Beginner to Expert"
   ]
  },
  {
   "cell_type": "markdown",
   "id": "1280c370",
   "metadata": {},
   "source": [
    "# for Loops\n",
    "\n",
    "`for` loop acts as an iterator in Python; it goes through iterable item.\n",
    "\n",
    "* `Iterable Includes`\n",
    "* strings, lists, tuples, and dictionaries ."
   ]
  },
  {
   "cell_type": "markdown",
   "id": "969c23ee",
   "metadata": {},
   "source": [
    "## Lecture 21"
   ]
  },
  {
   "cell_type": "markdown",
   "id": "d5d2aaac",
   "metadata": {},
   "source": [
    "`range(start,stop,step)`"
   ]
  },
  {
   "cell_type": "code",
   "execution_count": null,
   "id": "391aee7a",
   "metadata": {},
   "outputs": [],
   "source": [
    "# print  0  to  10 "
   ]
  },
  {
   "cell_type": "code",
   "execution_count": 8,
   "id": "1830400b",
   "metadata": {},
   "outputs": [
    {
     "name": "stdout",
     "output_type": "stream",
     "text": [
      "0\n",
      "1\n",
      "2\n",
      "3\n",
      "4\n",
      "5\n",
      "6\n",
      "7\n",
      "8\n",
      "9\n",
      "10\n"
     ]
    }
   ],
   "source": [
    "for i in range(0,11):\n",
    "    print(i)"
   ]
  },
  {
   "cell_type": "code",
   "execution_count": null,
   "id": "582e39cb",
   "metadata": {},
   "outputs": [],
   "source": [
    "# print  0  to  7 "
   ]
  },
  {
   "cell_type": "code",
   "execution_count": 9,
   "id": "8bf392c6",
   "metadata": {},
   "outputs": [
    {
     "name": "stdout",
     "output_type": "stream",
     "text": [
      "0\n",
      "1\n",
      "2\n",
      "3\n",
      "4\n",
      "5\n",
      "6\n",
      "7\n"
     ]
    }
   ],
   "source": [
    "for i in range(0,8):\n",
    "    print(i)"
   ]
  },
  {
   "cell_type": "code",
   "execution_count": null,
   "id": "e2dba7fb",
   "metadata": {},
   "outputs": [],
   "source": [
    "# print  10  to  20 "
   ]
  },
  {
   "cell_type": "code",
   "execution_count": 10,
   "id": "ce612d8e",
   "metadata": {},
   "outputs": [
    {
     "name": "stdout",
     "output_type": "stream",
     "text": [
      "10\n",
      "11\n",
      "12\n",
      "13\n",
      "14\n",
      "15\n",
      "16\n",
      "17\n",
      "18\n",
      "19\n",
      "20\n"
     ]
    }
   ],
   "source": [
    "for i in range(10,21):\n",
    "    print(i)"
   ]
  },
  {
   "cell_type": "code",
   "execution_count": null,
   "id": "4ca2b593",
   "metadata": {},
   "outputs": [],
   "source": [
    "# print  0  to  10  with step 2"
   ]
  },
  {
   "cell_type": "code",
   "execution_count": 11,
   "id": "21cefe00",
   "metadata": {},
   "outputs": [
    {
     "name": "stdout",
     "output_type": "stream",
     "text": [
      "0\n",
      "2\n",
      "4\n",
      "6\n",
      "8\n",
      "10\n"
     ]
    }
   ],
   "source": [
    "for i in range(0,11,2):\n",
    "    print(i)"
   ]
  },
  {
   "cell_type": "code",
   "execution_count": null,
   "id": "44bf88e2",
   "metadata": {},
   "outputs": [],
   "source": [
    "# print  10  to  20  with step 3"
   ]
  },
  {
   "cell_type": "code",
   "execution_count": 12,
   "id": "3dffa9f2",
   "metadata": {},
   "outputs": [
    {
     "name": "stdout",
     "output_type": "stream",
     "text": [
      "10\n",
      "13\n",
      "16\n",
      "19\n"
     ]
    }
   ],
   "source": [
    "for i in range(10,21,3):\n",
    "    print(i)"
   ]
  },
  {
   "cell_type": "markdown",
   "id": "688c86d6",
   "metadata": {},
   "source": [
    "#### WAP to print From Given Start Value To Given End Value with given step value"
   ]
  },
  {
   "cell_type": "code",
   "execution_count": 13,
   "id": "34a58fa9",
   "metadata": {},
   "outputs": [
    {
     "name": "stdout",
     "output_type": "stream",
     "text": [
      "ENter start4\n",
      "ENter stop15\n",
      "ENter step3\n",
      "4\n",
      "7\n",
      "10\n",
      "13\n"
     ]
    }
   ],
   "source": [
    "start = int(input(\"ENter start\"))\n",
    "stop = int(input(\"ENter stop\"))\n",
    "step= int(input(\"ENter step\"))\n",
    "\n",
    "for i in range(start,stop+1,step):\n",
    "    print(i)"
   ]
  },
  {
   "cell_type": "markdown",
   "id": "1ec1618f",
   "metadata": {
    "collapsed": true
   },
   "source": [
    "## Let's code on Next Lecture!"
   ]
  },
  {
   "cell_type": "markdown",
   "id": "1664c0f8",
   "metadata": {},
   "source": [
    "# codeXudaya\n",
    "\n",
    "[Subscribe to CodeXudaya on YouTube](https://www.youtube.com/@codeXudaya) \n",
    "-------------------------------------------------------------------------\n",
    "[Follow CodeXudaya on Instagram](https://www.instagram.com/codexudaya/)\n",
    "-------------------------------------------------------------------------"
   ]
  },
  {
   "cell_type": "code",
   "execution_count": null,
   "id": "62c880b2",
   "metadata": {},
   "outputs": [],
   "source": []
  }
 ],
 "metadata": {
  "kernelspec": {
   "display_name": "Python 3 (ipykernel)",
   "language": "python",
   "name": "python3"
  },
  "language_info": {
   "codemirror_mode": {
    "name": "ipython",
    "version": 3
   },
   "file_extension": ".py",
   "mimetype": "text/x-python",
   "name": "python",
   "nbconvert_exporter": "python",
   "pygments_lexer": "ipython3",
   "version": "3.11.5"
  }
 },
 "nbformat": 4,
 "nbformat_minor": 5
}
