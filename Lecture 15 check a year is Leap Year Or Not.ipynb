{
 "cells": [
  {
   "cell_type": "markdown",
   "id": "0056884a",
   "metadata": {},
   "source": [
    "# <a href='https://www.youtube.com/@codeXudaya'><img src='CodeXudaya.png'/></a>\n",
    "___\n",
    "<center><em>Content Copyright by codeXudaya</em></center>"
   ]
  },
  {
   "cell_type": "markdown",
   "id": "c712dd13",
   "metadata": {},
   "source": [
    "## Selection statement\n",
    "* often referred to as conditional statements\n",
    "* allow a program to make decisions based on the evaluation of a condition.\n",
    "* They control the execution of different code blocks based on whether a specified condition is true or false.\n",
    "### Example\n",
    "* if\n",
    "* elif\n",
    "* else"
   ]
  },
  {
   "cell_type": "markdown",
   "id": "5bab966a",
   "metadata": {},
   "source": [
    "### Lecture 15"
   ]
  },
  {
   "cell_type": "markdown",
   "id": "def0c836",
   "metadata": {},
   "source": [
    "### WAP to check a year is Leap Year Or Not ?"
   ]
  },
  {
   "cell_type": "code",
   "execution_count": 17,
   "id": "8fd4073b",
   "metadata": {},
   "outputs": [
    {
     "name": "stdout",
     "output_type": "stream",
     "text": [
      "Enter no 1998\n",
      "1998 is not a leap year \n"
     ]
    }
   ],
   "source": [
    "year = int(input(\"Enter no \"))\n",
    "\n",
    "if (year % 4 == 0 and year % 100 != 0) or (year % 400 == 0):\n",
    "    print(f\"{year} is leap year \")\n",
    "else:\n",
    "    print(f\"{year} is not a leap year \")"
   ]
  },
  {
   "cell_type": "code",
   "execution_count": 20,
   "id": "0ff78496",
   "metadata": {},
   "outputs": [
    {
     "data": {
      "text/plain": [
       "False"
      ]
     },
     "execution_count": 20,
     "metadata": {},
     "output_type": "execute_result"
    }
   ],
   "source": [
    "1998%400==0"
   ]
  },
  {
   "cell_type": "code",
   "execution_count": 19,
   "id": "c38f05f5",
   "metadata": {},
   "outputs": [
    {
     "data": {
      "text/plain": [
       "False"
      ]
     },
     "execution_count": 19,
     "metadata": {},
     "output_type": "execute_result"
    }
   ],
   "source": [
    "1998 % 4 == 0 and 1998 % 100 != 0"
   ]
  },
  {
   "cell_type": "code",
   "execution_count": null,
   "id": "930ac55a",
   "metadata": {},
   "outputs": [],
   "source": []
  },
  {
   "cell_type": "code",
   "execution_count": 4,
   "id": "2ee4d237",
   "metadata": {},
   "outputs": [
    {
     "data": {
      "text/plain": [
       "0"
      ]
     },
     "execution_count": 4,
     "metadata": {},
     "output_type": "execute_result"
    }
   ],
   "source": [
    "2000 % 400"
   ]
  },
  {
   "cell_type": "code",
   "execution_count": null,
   "id": "538b187d",
   "metadata": {},
   "outputs": [],
   "source": []
  },
  {
   "cell_type": "code",
   "execution_count": 8,
   "id": "a96eb510",
   "metadata": {},
   "outputs": [
    {
     "data": {
      "text/plain": [
       "12"
      ]
     },
     "execution_count": 8,
     "metadata": {},
     "output_type": "execute_result"
    }
   ],
   "source": [
    "2012 % 400"
   ]
  },
  {
   "cell_type": "code",
   "execution_count": null,
   "id": "abd8bef8",
   "metadata": {},
   "outputs": [],
   "source": [
    "Condition\n",
    "(year % 4 == 0 and year % 100 != 0) or (year % 400 == 0)"
   ]
  },
  {
   "cell_type": "code",
   "execution_count": null,
   "id": "6718a806",
   "metadata": {},
   "outputs": [],
   "source": []
  },
  {
   "cell_type": "markdown",
   "id": "50ac49f2",
   "metadata": {},
   "source": [
    "## Lecture no 16"
   ]
  },
  {
   "cell_type": "markdown",
   "id": "a8e31dd6",
   "metadata": {},
   "source": [
    "### WAP Check the absolute value using if-else"
   ]
  },
  {
   "cell_type": "code",
   "execution_count": 29,
   "id": "63e24248",
   "metadata": {},
   "outputs": [
    {
     "name": "stdout",
     "output_type": "stream",
     "text": [
      "enter a no to check the absolute value :-90\n",
      "The absolute value of -90.0 is 90.0\n"
     ]
    }
   ],
   "source": [
    "num = float(input(\"enter a no to check the absolute value :\"))\n",
    "\n",
    "if num >= 0:\n",
    "    absolute = num\n",
    "else:\n",
    "    absolute = - num\n",
    "    \n",
    "print(f\"The absolute value of {num} is {absolute}\")"
   ]
  },
  {
   "cell_type": "code",
   "execution_count": null,
   "id": "243dfd8e",
   "metadata": {},
   "outputs": [],
   "source": []
  },
  {
   "cell_type": "markdown",
   "id": "4924d64d",
   "metadata": {},
   "source": [
    "# Lecture No 17"
   ]
  },
  {
   "cell_type": "markdown",
   "id": "26b5e562",
   "metadata": {},
   "source": [
    "### WAP to check middle between 3 nos"
   ]
  },
  {
   "cell_type": "code",
   "execution_count": 31,
   "id": "7418f028",
   "metadata": {},
   "outputs": [
    {
     "name": "stdout",
     "output_type": "stream",
     "text": [
      "Enter 1st no 66\n",
      "Enter 2nd no 99\n",
      "Enter 3rd no 999\n",
      "99 is middle\n"
     ]
    }
   ],
   "source": [
    "a = int(input(\"Enter 1st no \"))\n",
    "b = int(input(\"Enter 2nd no \"))\n",
    "c = int(input(\"Enter 3rd no \"))\n",
    "\n",
    "if ( b<=a<=c) or (c<=a<=b):\n",
    "    print(f\"{a} is middle\")\n",
    "elif (a<=b<=c) or (c<=b<=a):\n",
    "    print(f\"{b} is middle\")\n",
    "else:\n",
    "    print(f\"{c} is middle\")"
   ]
  },
  {
   "cell_type": "markdown",
   "id": "ca88d34a",
   "metadata": {},
   "source": [
    "## Lecture 18"
   ]
  },
  {
   "cell_type": "markdown",
   "id": "8732ddb2",
   "metadata": {},
   "source": [
    "### Grade Calculator"
   ]
  },
  {
   "cell_type": "code",
   "execution_count": 33,
   "id": "3cab933d",
   "metadata": {},
   "outputs": [
    {
     "name": "stdout",
     "output_type": "stream",
     "text": [
      "Enter the marks :32\n",
      "Better try next time\n"
     ]
    }
   ],
   "source": [
    "mark = int(input(\"Enter the marks :\"))\n",
    "\n",
    "if mark<=100 and mark>=90:\n",
    "    print(\"Grade is A\")\n",
    "    \n",
    "elif mark<=89 and mark >=75:\n",
    "    print(\"Grade B\")\n",
    "    \n",
    "elif mark<=74 and mark >=60:\n",
    "    print(\"Grade c\")\n",
    "elif mark<=59 and mark >=50:\n",
    "    print(\"Grade D\")\n",
    "else:\n",
    "    print(\"Better try next time\")"
   ]
  },
  {
   "cell_type": "code",
   "execution_count": null,
   "id": "f7ceccb3",
   "metadata": {},
   "outputs": [],
   "source": []
  },
  {
   "cell_type": "code",
   "execution_count": null,
   "id": "2fbfef41",
   "metadata": {},
   "outputs": [],
   "source": []
  },
  {
   "cell_type": "code",
   "execution_count": null,
   "id": "5a59e9d7",
   "metadata": {},
   "outputs": [],
   "source": []
  },
  {
   "cell_type": "code",
   "execution_count": null,
   "id": "33ea657e",
   "metadata": {},
   "outputs": [],
   "source": []
  },
  {
   "cell_type": "code",
   "execution_count": null,
   "id": "0c0e86f6",
   "metadata": {},
   "outputs": [],
   "source": []
  },
  {
   "cell_type": "code",
   "execution_count": null,
   "id": "ec075fc9",
   "metadata": {},
   "outputs": [],
   "source": []
  },
  {
   "cell_type": "code",
   "execution_count": null,
   "id": "150253b0",
   "metadata": {},
   "outputs": [],
   "source": []
  },
  {
   "cell_type": "code",
   "execution_count": null,
   "id": "16eb5ae2",
   "metadata": {},
   "outputs": [],
   "source": []
  },
  {
   "cell_type": "code",
   "execution_count": null,
   "id": "8f3a8a82",
   "metadata": {},
   "outputs": [],
   "source": []
  },
  {
   "cell_type": "code",
   "execution_count": null,
   "id": "e82e86b7",
   "metadata": {},
   "outputs": [],
   "source": []
  },
  {
   "cell_type": "markdown",
   "id": "5d8e0404",
   "metadata": {},
   "source": [
    "# codeXudaya\n",
    "\n",
    "[Subscribe to CodeXudaya on YouTube](https://www.youtube.com/@codeXudaya) \n",
    "-------------------------------------------------------------------------\n",
    "[Follow CodeXudaya on Instagram](https://www.instagram.com/codexudaya/)\n",
    "-------------------------------------------------------------------------"
   ]
  },
  {
   "cell_type": "code",
   "execution_count": null,
   "id": "5a29ca2d",
   "metadata": {},
   "outputs": [],
   "source": []
  },
  {
   "cell_type": "code",
   "execution_count": null,
   "id": "f9348b3b",
   "metadata": {},
   "outputs": [],
   "source": []
  },
  {
   "cell_type": "code",
   "execution_count": null,
   "id": "d6987beb",
   "metadata": {},
   "outputs": [],
   "source": []
  },
  {
   "cell_type": "code",
   "execution_count": null,
   "id": "7efcc082",
   "metadata": {},
   "outputs": [],
   "source": []
  },
  {
   "cell_type": "code",
   "execution_count": null,
   "id": "92d4e8d6",
   "metadata": {},
   "outputs": [],
   "source": []
  },
  {
   "cell_type": "markdown",
   "id": "e4365810",
   "metadata": {},
   "source": [
    "# codeXudaya\n",
    "\n",
    "[Subscribe to CodeXudaya on YouTube](https://www.youtube.com/@codeXudaya) \n",
    "-------------------------------------------------------------------------\n",
    "[Follow CodeXudaya on Instagram](https://www.instagram.com/codexudaya/)\n",
    "-------------------------------------------------------------------------"
   ]
  },
  {
   "cell_type": "code",
   "execution_count": null,
   "id": "bbbf28a8",
   "metadata": {},
   "outputs": [],
   "source": []
  }
 ],
 "metadata": {
  "kernelspec": {
   "display_name": "Python 3 (ipykernel)",
   "language": "python",
   "name": "python3"
  },
  "language_info": {
   "codemirror_mode": {
    "name": "ipython",
    "version": 3
   },
   "file_extension": ".py",
   "mimetype": "text/x-python",
   "name": "python",
   "nbconvert_exporter": "python",
   "pygments_lexer": "ipython3",
   "version": "3.11.5"
  }
 },
 "nbformat": 4,
 "nbformat_minor": 5
}
