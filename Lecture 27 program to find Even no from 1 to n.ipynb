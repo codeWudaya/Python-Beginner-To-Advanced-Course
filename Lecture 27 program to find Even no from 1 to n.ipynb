{
 "cells": [
  {
   "cell_type": "markdown",
   "id": "7c404ece",
   "metadata": {},
   "source": [
    "# <a href='https://www.youtube.com/@codeXudaya'><img src='CodeXudaya.png'/></a>\n",
    "___\n",
    "<center><em>Content Copyright by codeXudaya</em></center>\n",
    "\n",
    "# Python Beginner to Expert"
   ]
  },
  {
   "cell_type": "markdown",
   "id": "3abd8fd0",
   "metadata": {},
   "source": [
    "## Lecture 27"
   ]
  },
  {
   "cell_type": "markdown",
   "id": "e148d576",
   "metadata": {},
   "source": [
    "### WAP to find even no from 0 to N ?"
   ]
  },
  {
   "cell_type": "code",
   "execution_count": 3,
   "id": "f0531ffd",
   "metadata": {},
   "outputs": [
    {
     "name": "stdout",
     "output_type": "stream",
     "text": [
      "Enter a range :6\n",
      "0\n",
      "2\n",
      "4\n",
      "6\n"
     ]
    }
   ],
   "source": [
    "num = int(input(\"Enter a range :\"))\n",
    "\n",
    "for i in range(0,num+1):\n",
    "    if i % 2 == 0:\n",
    "        print(i)"
   ]
  },
  {
   "cell_type": "code",
   "execution_count": 1,
   "id": "79fa80c9",
   "metadata": {
    "scrolled": true
   },
   "outputs": [
    {
     "data": {
      "text/plain": [
       "0"
      ]
     },
     "execution_count": 1,
     "metadata": {},
     "output_type": "execute_result"
    }
   ],
   "source": [
    "222 % 2"
   ]
  },
  {
   "cell_type": "code",
   "execution_count": 2,
   "id": "f710e0ed",
   "metadata": {},
   "outputs": [
    {
     "data": {
      "text/plain": [
       "1"
      ]
     },
     "execution_count": 2,
     "metadata": {},
     "output_type": "execute_result"
    }
   ],
   "source": [
    "223 % 2"
   ]
  },
  {
   "cell_type": "markdown",
   "id": "ac8cb12c",
   "metadata": {},
   "source": [
    "# codeXudaya\n",
    "\n",
    "[Subscribe to CodeXudaya on YouTube](https://www.youtube.com/@codeXudaya) \n",
    "-------------------------------------------------------------------------\n",
    "[Follow CodeXudaya on Instagram](https://www.instagram.com/codexudaya/)\n",
    "-------------------------------------------------------------------------"
   ]
  },
  {
   "cell_type": "markdown",
   "id": "703335af",
   "metadata": {},
   "source": [
    "## Next Lecture:\n",
    "### sum of Even no from 1 to n"
   ]
  },
  {
   "cell_type": "code",
   "execution_count": null,
   "id": "c9643464",
   "metadata": {},
   "outputs": [],
   "source": []
  }
 ],
 "metadata": {
  "kernelspec": {
   "display_name": "Python 3 (ipykernel)",
   "language": "python",
   "name": "python3"
  },
  "language_info": {
   "codemirror_mode": {
    "name": "ipython",
    "version": 3
   },
   "file_extension": ".py",
   "mimetype": "text/x-python",
   "name": "python",
   "nbconvert_exporter": "python",
   "pygments_lexer": "ipython3",
   "version": "3.11.5"
  }
 },
 "nbformat": 4,
 "nbformat_minor": 5
}
