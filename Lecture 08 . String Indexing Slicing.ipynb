{
 "cells": [
  {
   "cell_type": "markdown",
   "id": "e3fe1323",
   "metadata": {},
   "source": [
    "# <a href='https://www.youtube.com/@codeXudaya'><img src='CodeXudaya.png'/></a>\n",
    "___\n",
    "<center><em>Content Copyright by codeXudaya</em></center>"
   ]
  },
  {
   "cell_type": "markdown",
   "id": "a5917433",
   "metadata": {},
   "source": [
    "# Lecture no - 8\n",
    "# Python Beginner to Expert"
   ]
  },
  {
   "cell_type": "markdown",
   "id": "b33c0a3e",
   "metadata": {},
   "source": [
    "# Strings"
   ]
  },
  {
   "cell_type": "markdown",
   "id": "28588702",
   "metadata": {},
   "source": [
    "In this lecture we'll learn about the following:\n",
    "\n",
    "    1.) Indexing of Strings\n",
    "    2.) Slicing"
   ]
  },
  {
   "cell_type": "code",
   "execution_count": 17,
   "id": "661c1fb5",
   "metadata": {},
   "outputs": [
    {
     "data": {
      "text/plain": [
       "10"
      ]
     },
     "execution_count": 17,
     "metadata": {},
     "output_type": "execute_result"
    }
   ],
   "source": [
    "string = 'codexudaya'\n",
    "len(string)"
   ]
  },
  {
   "cell_type": "markdown",
   "id": "c5642c79",
   "metadata": {},
   "source": [
    "## String Indexing\n",
    "use indexes to call parts of the sequence.\n",
    "\n",
    "indexing starts at 0"
   ]
  },
  {
   "cell_type": "code",
   "execution_count": 5,
   "id": "d2f720bc",
   "metadata": {},
   "outputs": [
    {
     "data": {
      "text/plain": [
       "'codeXudaya'"
      ]
     },
     "execution_count": 5,
     "metadata": {},
     "output_type": "execute_result"
    }
   ],
   "source": [
    "'codeXudaya'"
   ]
  },
  {
   "cell_type": "markdown",
   "id": "2ef55b21",
   "metadata": {},
   "source": [
    "# <a href='https://www.youtube.com/@codeXudaya'><img src='indexing.png'/></a>"
   ]
  },
  {
   "cell_type": "markdown",
   "id": "d07b61ea",
   "metadata": {},
   "source": [
    "use `[]` after an object with its index no to call the value ."
   ]
  },
  {
   "cell_type": "markdown",
   "id": "fad90a8c",
   "metadata": {},
   "source": [
    "Let's start indexing!"
   ]
  },
  {
   "cell_type": "code",
   "execution_count": 18,
   "id": "5d1717e4",
   "metadata": {},
   "outputs": [],
   "source": [
    "a = 'codeXudaya'"
   ]
  },
  {
   "cell_type": "markdown",
   "id": "f607ddea",
   "metadata": {},
   "source": [
    "1st element"
   ]
  },
  {
   "cell_type": "code",
   "execution_count": 19,
   "id": "6f5d65e9",
   "metadata": {},
   "outputs": [
    {
     "data": {
      "text/plain": [
       "'c'"
      ]
     },
     "execution_count": 19,
     "metadata": {},
     "output_type": "execute_result"
    }
   ],
   "source": [
    "a[0]"
   ]
  },
  {
   "cell_type": "markdown",
   "id": "875e522f",
   "metadata": {},
   "source": [
    "2nd element"
   ]
  },
  {
   "cell_type": "code",
   "execution_count": 20,
   "id": "f2f428fe",
   "metadata": {},
   "outputs": [
    {
     "data": {
      "text/plain": [
       "'o'"
      ]
     },
     "execution_count": 20,
     "metadata": {},
     "output_type": "execute_result"
    }
   ],
   "source": [
    "a[1]"
   ]
  },
  {
   "cell_type": "markdown",
   "id": "31c86356",
   "metadata": {},
   "source": [
    "3rd element"
   ]
  },
  {
   "cell_type": "code",
   "execution_count": 21,
   "id": "6b2bb765",
   "metadata": {},
   "outputs": [
    {
     "data": {
      "text/plain": [
       "'d'"
      ]
     },
     "execution_count": 21,
     "metadata": {},
     "output_type": "execute_result"
    }
   ],
   "source": [
    "a[2]"
   ]
  },
  {
   "cell_type": "raw",
   "id": "285ba62a",
   "metadata": {},
   "source": [
    "last element"
   ]
  },
  {
   "cell_type": "code",
   "execution_count": 22,
   "id": "030e45b2",
   "metadata": {},
   "outputs": [
    {
     "data": {
      "text/plain": [
       "'a'"
      ]
     },
     "execution_count": 22,
     "metadata": {},
     "output_type": "execute_result"
    }
   ],
   "source": [
    "a[9]"
   ]
  },
  {
   "cell_type": "markdown",
   "id": "7675bb1c",
   "metadata": {},
   "source": [
    "# <a href='https://www.youtube.com/@codeXudaya'><img src='-veindex.png'/></a>"
   ]
  },
  {
   "cell_type": "markdown",
   "id": "d71c70ff",
   "metadata": {},
   "source": [
    "Let's start `-ve` indexing!"
   ]
  },
  {
   "cell_type": "code",
   "execution_count": 23,
   "id": "3ed254a5",
   "metadata": {},
   "outputs": [
    {
     "data": {
      "text/plain": [
       "'a'"
      ]
     },
     "execution_count": 23,
     "metadata": {},
     "output_type": "execute_result"
    }
   ],
   "source": [
    "a[9]"
   ]
  },
  {
   "cell_type": "code",
   "execution_count": 24,
   "id": "e3364223",
   "metadata": {},
   "outputs": [
    {
     "data": {
      "text/plain": [
       "'a'"
      ]
     },
     "execution_count": 24,
     "metadata": {},
     "output_type": "execute_result"
    }
   ],
   "source": [
    "a[-1]"
   ]
  },
  {
   "cell_type": "code",
   "execution_count": 25,
   "id": "858f3a2a",
   "metadata": {},
   "outputs": [
    {
     "data": {
      "text/plain": [
       "'y'"
      ]
     },
     "execution_count": 25,
     "metadata": {},
     "output_type": "execute_result"
    }
   ],
   "source": [
    "a[-2]"
   ]
  },
  {
   "cell_type": "code",
   "execution_count": 26,
   "id": "91c9538b",
   "metadata": {},
   "outputs": [
    {
     "data": {
      "text/plain": [
       "'c'"
      ]
     },
     "execution_count": 26,
     "metadata": {},
     "output_type": "execute_result"
    }
   ],
   "source": [
    "a[-10]"
   ]
  },
  {
   "cell_type": "code",
   "execution_count": null,
   "id": "8ff16324",
   "metadata": {},
   "outputs": [],
   "source": []
  },
  {
   "cell_type": "markdown",
   "id": "6ae778c5",
   "metadata": {},
   "source": [
    "# Slicing"
   ]
  },
  {
   "cell_type": "markdown",
   "id": "4c714348",
   "metadata": {},
   "source": [
    "We can use a `:` to perform *slicing* \n",
    "it grabs everything up to a range."
   ]
  },
  {
   "cell_type": "code",
   "execution_count": 27,
   "id": "b4c92ee5",
   "metadata": {},
   "outputs": [],
   "source": [
    "a = 'codeXudaya'"
   ]
  },
  {
   "cell_type": "code",
   "execution_count": null,
   "id": "3e0d5de1",
   "metadata": {},
   "outputs": [],
   "source": []
  },
  {
   "cell_type": "raw",
   "id": "f07d7712",
   "metadata": {},
   "source": [
    "Syntax\n",
    "sequence [ start : stop : step ]"
   ]
  },
  {
   "cell_type": "markdown",
   "id": "6e8077c0",
   "metadata": {},
   "source": [
    "\n",
    "* start: The index where the slice begins (inclusive).\n",
    "* stop: The index where the slice ends (exclusive).\n",
    "* step: The step or stride between elements in the slice (default is 1)."
   ]
  },
  {
   "cell_type": "code",
   "execution_count": 31,
   "id": "1cf1e42e",
   "metadata": {},
   "outputs": [
    {
     "data": {
      "text/plain": [
       "'codeX'"
      ]
     },
     "execution_count": 31,
     "metadata": {},
     "output_type": "execute_result"
    }
   ],
   "source": [
    "a[0:5]"
   ]
  },
  {
   "cell_type": "markdown",
   "id": "0e190971",
   "metadata": {},
   "source": [
    "Basic Slicing"
   ]
  },
  {
   "cell_type": "code",
   "execution_count": null,
   "id": "284b8188",
   "metadata": {},
   "outputs": [],
   "source": []
  },
  {
   "cell_type": "code",
   "execution_count": null,
   "id": "814faba3",
   "metadata": {},
   "outputs": [],
   "source": []
  },
  {
   "cell_type": "code",
   "execution_count": 32,
   "id": "58ccfe5b",
   "metadata": {},
   "outputs": [],
   "source": [
    "a = 'codeXudaya'"
   ]
  },
  {
   "cell_type": "markdown",
   "id": "0836e03f",
   "metadata": {},
   "source": [
    "Omitting Stop Index"
   ]
  },
  {
   "cell_type": "code",
   "execution_count": 33,
   "id": "1ccf0fde",
   "metadata": {},
   "outputs": [
    {
     "data": {
      "text/plain": [
       "'deXudaya'"
      ]
     },
     "execution_count": 33,
     "metadata": {},
     "output_type": "execute_result"
    }
   ],
   "source": [
    "a[2:]"
   ]
  },
  {
   "cell_type": "markdown",
   "id": "9c20966c",
   "metadata": {},
   "source": [
    "Omitting Start Index"
   ]
  },
  {
   "cell_type": "code",
   "execution_count": 35,
   "id": "53669e1c",
   "metadata": {},
   "outputs": [
    {
     "data": {
      "text/plain": [
       "'cod'"
      ]
     },
     "execution_count": 35,
     "metadata": {},
     "output_type": "execute_result"
    }
   ],
   "source": [
    "a[:3]"
   ]
  },
  {
   "cell_type": "markdown",
   "id": "c5537ed7",
   "metadata": {},
   "source": [
    "Negative Indices"
   ]
  },
  {
   "cell_type": "code",
   "execution_count": 36,
   "id": "176b5bd3",
   "metadata": {},
   "outputs": [
    {
     "data": {
      "text/plain": [
       "'codeXuday'"
      ]
     },
     "execution_count": 36,
     "metadata": {},
     "output_type": "execute_result"
    }
   ],
   "source": [
    "a[0:-1]"
   ]
  },
  {
   "cell_type": "code",
   "execution_count": 37,
   "id": "41a82eb9",
   "metadata": {},
   "outputs": [
    {
     "data": {
      "text/plain": [
       "'codeXudaya'"
      ]
     },
     "execution_count": 37,
     "metadata": {},
     "output_type": "execute_result"
    }
   ],
   "source": [
    "a[:]"
   ]
  },
  {
   "cell_type": "markdown",
   "id": "a38b1442",
   "metadata": {},
   "source": [
    "Slicing with Step"
   ]
  },
  {
   "cell_type": "code",
   "execution_count": 38,
   "id": "42d5c7df",
   "metadata": {},
   "outputs": [],
   "source": [
    "a = 'codeXudaya'"
   ]
  },
  {
   "cell_type": "markdown",
   "id": "64b6cd66",
   "metadata": {},
   "source": [
    "case-1  Default 1"
   ]
  },
  {
   "cell_type": "code",
   "execution_count": 41,
   "id": "28a373dc",
   "metadata": {},
   "outputs": [
    {
     "data": {
      "text/plain": [
       "'odeX'"
      ]
     },
     "execution_count": 41,
     "metadata": {},
     "output_type": "execute_result"
    }
   ],
   "source": [
    "a[1:5:]"
   ]
  },
  {
   "cell_type": "markdown",
   "id": "c3f66d23",
   "metadata": {},
   "source": [
    "case-2  Default value exm:"
   ]
  },
  {
   "cell_type": "code",
   "execution_count": 42,
   "id": "4a3483c9",
   "metadata": {},
   "outputs": [
    {
     "data": {
      "text/plain": [
       "'cdXdy'"
      ]
     },
     "execution_count": 42,
     "metadata": {},
     "output_type": "execute_result"
    }
   ],
   "source": [
    "a[::2]"
   ]
  },
  {
   "cell_type": "code",
   "execution_count": 43,
   "id": "165dbdea",
   "metadata": {},
   "outputs": [
    {
     "data": {
      "text/plain": [
       "'ceda'"
      ]
     },
     "execution_count": 43,
     "metadata": {},
     "output_type": "execute_result"
    }
   ],
   "source": [
    "a[::3]"
   ]
  },
  {
   "cell_type": "markdown",
   "id": "034429c8",
   "metadata": {},
   "source": [
    "Normal String"
   ]
  },
  {
   "cell_type": "code",
   "execution_count": null,
   "id": "093eb981",
   "metadata": {},
   "outputs": [],
   "source": []
  },
  {
   "cell_type": "markdown",
   "id": "33f18c77",
   "metadata": {},
   "source": [
    "with custom step and start"
   ]
  },
  {
   "cell_type": "code",
   "execution_count": 44,
   "id": "39e6dfe4",
   "metadata": {},
   "outputs": [
    {
     "data": {
      "text/plain": [
       "'hello '"
      ]
     },
     "execution_count": 44,
     "metadata": {},
     "output_type": "execute_result"
    }
   ],
   "source": [
    "a = 'hello world'\n",
    "a[0:6]"
   ]
  },
  {
   "cell_type": "code",
   "execution_count": 45,
   "id": "b1c055af",
   "metadata": {},
   "outputs": [
    {
     "data": {
      "text/plain": [
       "'hello w'"
      ]
     },
     "execution_count": 45,
     "metadata": {},
     "output_type": "execute_result"
    }
   ],
   "source": [
    "a[0:7]"
   ]
  },
  {
   "cell_type": "code",
   "execution_count": 46,
   "id": "64ab09c8",
   "metadata": {},
   "outputs": [
    {
     "data": {
      "text/plain": [
       "'hello world'"
      ]
     },
     "execution_count": 46,
     "metadata": {},
     "output_type": "execute_result"
    }
   ],
   "source": [
    "a = 'hello world'\n",
    "a[::1]"
   ]
  },
  {
   "cell_type": "markdown",
   "id": "1cdfae39",
   "metadata": {},
   "source": [
    "# WAP to Reverse a String ?"
   ]
  },
  {
   "cell_type": "code",
   "execution_count": 47,
   "id": "f1a987b4",
   "metadata": {},
   "outputs": [
    {
     "name": "stdout",
     "output_type": "stream",
     "text": [
      "Enter any string ?udaya\n"
     ]
    },
    {
     "data": {
      "text/plain": [
       "'ayadu'"
      ]
     },
     "execution_count": 47,
     "metadata": {},
     "output_type": "execute_result"
    }
   ],
   "source": [
    "a = input(\"Enter any string ?\")\n",
    "a[::-1]"
   ]
  },
  {
   "cell_type": "code",
   "execution_count": null,
   "id": "4bbfe8ad",
   "metadata": {},
   "outputs": [],
   "source": []
  },
  {
   "cell_type": "markdown",
   "id": "e49598ce",
   "metadata": {},
   "source": [
    "# Check a Strings immutability ?"
   ]
  },
  {
   "cell_type": "code",
   "execution_count": 49,
   "id": "8e5568c6",
   "metadata": {},
   "outputs": [
    {
     "ename": "TypeError",
     "evalue": "'str' object does not support item assignment",
     "output_type": "error",
     "traceback": [
      "\u001b[1;31m---------------------------------------------------------------------------\u001b[0m",
      "\u001b[1;31mTypeError\u001b[0m                                 Traceback (most recent call last)",
      "Cell \u001b[1;32mIn[49], line 2\u001b[0m\n\u001b[0;32m      1\u001b[0m a \u001b[38;5;241m=\u001b[39m \u001b[38;5;124m\"\u001b[39m\u001b[38;5;124mcodeXudaya\u001b[39m\u001b[38;5;124m\"\u001b[39m\n\u001b[1;32m----> 2\u001b[0m a[\u001b[38;5;241m3\u001b[39m]\u001b[38;5;241m=\u001b[39m\u001b[38;5;124m'\u001b[39m\u001b[38;5;124mk\u001b[39m\u001b[38;5;124m'\u001b[39m\n",
      "\u001b[1;31mTypeError\u001b[0m: 'str' object does not support item assignment"
     ]
    }
   ],
   "source": [
    "a = \"codeXudaya\"\n",
    "a[3]='k'"
   ]
  },
  {
   "cell_type": "code",
   "execution_count": null,
   "id": "15208fe0",
   "metadata": {},
   "outputs": [],
   "source": []
  },
  {
   "cell_type": "markdown",
   "id": "537f80ea",
   "metadata": {},
   "source": [
    "# codeXudaya\n",
    "\n",
    "[Subscribe to CodeXudaya on YouTube](https://www.youtube.com/@codeXudaya) \n",
    "-------------------------------------------------------------------------\n",
    "[Follow CodeXudaya on Instagram](https://www.instagram.com/codexudaya/)\n",
    "-------------------------------------------------------------------------"
   ]
  }
 ],
 "metadata": {
  "kernelspec": {
   "display_name": "Python 3 (ipykernel)",
   "language": "python",
   "name": "python3"
  },
  "language_info": {
   "codemirror_mode": {
    "name": "ipython",
    "version": 3
   },
   "file_extension": ".py",
   "mimetype": "text/x-python",
   "name": "python",
   "nbconvert_exporter": "python",
   "pygments_lexer": "ipython3",
   "version": "3.11.5"
  }
 },
 "nbformat": 4,
 "nbformat_minor": 5
}
