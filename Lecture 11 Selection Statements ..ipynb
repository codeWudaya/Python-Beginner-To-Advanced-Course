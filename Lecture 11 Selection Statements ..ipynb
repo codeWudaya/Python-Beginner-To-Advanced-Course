{
 "cells": [
  {
   "cell_type": "markdown",
   "id": "0056884a",
   "metadata": {},
   "source": [
    "# <a href='https://www.youtube.com/@codeXudaya'><img src='CodeXudaya.png'/></a>\n",
    "___\n",
    "<center><em>Content Copyright by codeXudaya</em></center>"
   ]
  },
  {
   "cell_type": "markdown",
   "id": "86f4732b",
   "metadata": {},
   "source": [
    "## Lecture No 11"
   ]
  },
  {
   "cell_type": "markdown",
   "id": "c712dd13",
   "metadata": {},
   "source": [
    "## Selection statement\n",
    "* often referred to as conditional statements\n",
    "* allow a program to make decisions based on the evaluation of a condition.\n",
    "* They control the execution of different code blocks based on whether a specified condition is true or false.\n",
    "### Example\n",
    "* if\n",
    "* elif\n",
    "* else"
   ]
  },
  {
   "cell_type": "markdown",
   "id": "03a9bfe2",
   "metadata": {},
   "source": [
    "### if Statement"
   ]
  },
  {
   "cell_type": "markdown",
   "id": "85a1e618",
   "metadata": {},
   "source": [
    "`Syntax`"
   ]
  },
  {
   "cell_type": "code",
   "execution_count": null,
   "id": "c98ebd40",
   "metadata": {},
   "outputs": [],
   "source": [
    "if condition1:\n",
    "    # Code block executed if condition1 is True\n",
    "    # ..."
   ]
  },
  {
   "cell_type": "code",
   "execution_count": 1,
   "id": "4dbbf2da",
   "metadata": {},
   "outputs": [
    {
     "name": "stdout",
     "output_type": "stream",
     "text": [
      "subscribe\n"
     ]
    }
   ],
   "source": [
    "if True:\n",
    "    print(\"subscribe\")"
   ]
  },
  {
   "cell_type": "code",
   "execution_count": 2,
   "id": "e9f9852b",
   "metadata": {},
   "outputs": [],
   "source": [
    "x = False\n",
    "\n",
    "if x:\n",
    "    print(\"subscribe\")"
   ]
  },
  {
   "cell_type": "code",
   "execution_count": 5,
   "id": "6053f045",
   "metadata": {},
   "outputs": [
    {
     "name": "stdout",
     "output_type": "stream",
     "text": [
      "enter a no 3\n"
     ]
    }
   ],
   "source": [
    "x = int(input(\"enter a no \"))\n",
    "\n",
    "if x >21:\n",
    "    print(\"X executed\")"
   ]
  },
  {
   "cell_type": "markdown",
   "id": "baeebabf",
   "metadata": {},
   "source": [
    "### if , else Statement Clubed Together"
   ]
  },
  {
   "cell_type": "code",
   "execution_count": null,
   "id": "7d81a6a6",
   "metadata": {},
   "outputs": [],
   "source": [
    "if condition1:\n",
    "    # Code block executed if condition1 is True\n",
    "    # ...\n",
    "else:\n",
    "    # Code block executed condition1 is False\n",
    "    # ..."
   ]
  },
  {
   "cell_type": "code",
   "execution_count": 7,
   "id": "e4f62d10",
   "metadata": {},
   "outputs": [
    {
     "name": "stdout",
     "output_type": "stream",
     "text": [
      "enter a no 55\n",
      "X executed\n"
     ]
    }
   ],
   "source": [
    "x = int(input(\"enter a no \"))\n",
    "\n",
    "if x >21:\n",
    "    print(\"X executed\")\n",
    "else:\n",
    "    print(\"X value is less than 21\")"
   ]
  },
  {
   "cell_type": "markdown",
   "id": "1c44ab72",
   "metadata": {},
   "source": [
    "### if , elif , else Statement Clubed Together"
   ]
  },
  {
   "cell_type": "code",
   "execution_count": null,
   "id": "65b49419",
   "metadata": {},
   "outputs": [],
   "source": [
    "if condition1:\n",
    "    # Code block executed if condition1 is True\n",
    "    # ...\n",
    "elif condition2:\n",
    "    # Code block executed if condition1 is False and condition2 is True\n",
    "    # ...\n",
    "else:\n",
    "    # Code block executed if both condition1 and condition2 are False\n",
    "    # ..."
   ]
  },
  {
   "cell_type": "code",
   "execution_count": 10,
   "id": "a7fe4ad4",
   "metadata": {},
   "outputs": [
    {
     "name": "stdout",
     "output_type": "stream",
     "text": [
      "Enter a word codexudaya\n",
      "code and coding both words not matched\n"
     ]
    }
   ],
   "source": [
    "x = input(\"Enter a word \")\n",
    "if x == 'code':\n",
    "    print(\"if executed\")\n",
    "elif x== 'coding':\n",
    "    print(\"elif executed\")\n",
    "else:\n",
    "    print(\"code and coding both words not matched\")"
   ]
  },
  {
   "cell_type": "markdown",
   "id": "4abf68de",
   "metadata": {},
   "source": [
    "WAP To check a person is eligiable for voting or not ?"
   ]
  },
  {
   "cell_type": "code",
   "execution_count": 13,
   "id": "b6048f28",
   "metadata": {},
   "outputs": [
    {
     "name": "stdout",
     "output_type": "stream",
     "text": [
      "Enter your age :18\n",
      "Not Eligiable\n"
     ]
    }
   ],
   "source": [
    "age = int(input(\"Enter your age :\"))\n",
    "if age > 18:\n",
    "    print(\"Eligiable for voting\")\n",
    "else:\n",
    "    print(\"Not Eligiable\")"
   ]
  },
  {
   "cell_type": "markdown",
   "id": "5d8e0404",
   "metadata": {},
   "source": [
    "# codeXudaya\n",
    "\n",
    "[Subscribe to CodeXudaya on YouTube](https://www.youtube.com/@codeXudaya) \n",
    "-------------------------------------------------------------------------\n",
    "[Follow CodeXudaya on Instagram](https://www.instagram.com/codexudaya/)\n",
    "-------------------------------------------------------------------------"
   ]
  }
 ],
 "metadata": {
  "kernelspec": {
   "display_name": "Python 3 (ipykernel)",
   "language": "python",
   "name": "python3"
  },
  "language_info": {
   "codemirror_mode": {
    "name": "ipython",
    "version": 3
   },
   "file_extension": ".py",
   "mimetype": "text/x-python",
   "name": "python",
   "nbconvert_exporter": "python",
   "pygments_lexer": "ipython3",
   "version": "3.11.5"
  }
 },
 "nbformat": 4,
 "nbformat_minor": 5
}
