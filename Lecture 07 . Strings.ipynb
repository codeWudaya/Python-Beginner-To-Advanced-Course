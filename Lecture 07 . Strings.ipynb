{
 "cells": [
  {
   "cell_type": "markdown",
   "id": "ef927b79",
   "metadata": {},
   "source": [
    "# <a href='https://www.youtube.com/@codeXudaya'><img src='CodeXudaya.png'/></a>\n",
    "___\n",
    "<center><em>Content Copyright by codeXudaya</em></center>"
   ]
  },
  {
   "cell_type": "markdown",
   "id": "daf938bd",
   "metadata": {},
   "source": [
    "# Lecture no - 7\n",
    "# Python Beginner to Expert"
   ]
  },
  {
   "cell_type": "markdown",
   "id": "b33c0a3e",
   "metadata": {},
   "source": [
    "# Strings"
   ]
  },
  {
   "cell_type": "code",
   "execution_count": null,
   "id": "fb68d7db",
   "metadata": {},
   "outputs": [],
   "source": []
  },
  {
   "cell_type": "markdown",
   "id": "3aa9eff5",
   "metadata": {},
   "source": [
    "##### Strings in Python are sequences of characters enclosed in quotes. They support various operations and are immutable data types\n",
    "#### USED FOR\n",
    "* text processing,\n",
    "* data manipulation,\n",
    "* input/output operations\n",
    "* defining textual information in programs"
   ]
  },
  {
   "cell_type": "markdown",
   "id": "b760c33f",
   "metadata": {},
   "source": [
    "In this lecture we'll learn about the following:\n",
    "\n",
    "    1.) Creating Strings\n",
    "    2.) Printing Strings\n",
    "    3.) String Properties"
   ]
  },
  {
   "cell_type": "markdown",
   "id": "f5fc8f35",
   "metadata": {},
   "source": [
    "# Creating a String"
   ]
  },
  {
   "cell_type": "markdown",
   "id": "ea3a8052",
   "metadata": {},
   "source": [
    "By using `Single` quotes"
   ]
  },
  {
   "cell_type": "markdown",
   "id": "758f6498",
   "metadata": {},
   "source": [
    "`Single Word`"
   ]
  },
  {
   "cell_type": "code",
   "execution_count": 1,
   "id": "bf4f433e",
   "metadata": {},
   "outputs": [
    {
     "data": {
      "text/plain": [
       "'codexudaya'"
      ]
     },
     "execution_count": 1,
     "metadata": {},
     "output_type": "execute_result"
    }
   ],
   "source": [
    "'codexudaya'"
   ]
  },
  {
   "cell_type": "markdown",
   "id": "23b88c7d",
   "metadata": {},
   "source": [
    "`Entire Line`"
   ]
  },
  {
   "cell_type": "code",
   "execution_count": 3,
   "id": "a2b80e87",
   "metadata": {
    "scrolled": true
   },
   "outputs": [],
   "source": [
    "a='code x udaya'"
   ]
  },
  {
   "cell_type": "code",
   "execution_count": 4,
   "id": "ee1c07a8",
   "metadata": {},
   "outputs": [
    {
     "data": {
      "text/plain": [
       "str"
      ]
     },
     "execution_count": 4,
     "metadata": {},
     "output_type": "execute_result"
    }
   ],
   "source": [
    "type(a)"
   ]
  },
  {
   "cell_type": "markdown",
   "id": "8cf03fa0",
   "metadata": {},
   "source": [
    "N.B `Warning`"
   ]
  },
  {
   "cell_type": "code",
   "execution_count": 5,
   "id": "73bc3a81",
   "metadata": {},
   "outputs": [
    {
     "ename": "SyntaxError",
     "evalue": "unterminated string literal (detected at line 1) (439433691.py, line 1)",
     "output_type": "error",
     "traceback": [
      "\u001b[1;36m  Cell \u001b[1;32mIn[5], line 1\u001b[1;36m\u001b[0m\n\u001b[1;33m    'i'm udaya'\u001b[0m\n\u001b[1;37m              ^\u001b[0m\n\u001b[1;31mSyntaxError\u001b[0m\u001b[1;31m:\u001b[0m unterminated string literal (detected at line 1)\n"
     ]
    }
   ],
   "source": [
    "'i'm udaya'"
   ]
  },
  {
   "cell_type": "markdown",
   "id": "d1b4ce5f",
   "metadata": {},
   "source": [
    "Above `error` is because the single quote in `I'm` stopped the string."
   ]
  },
  {
   "cell_type": "markdown",
   "id": "b9a716c8",
   "metadata": {},
   "source": [
    "Using `Double quotes`"
   ]
  },
  {
   "cell_type": "code",
   "execution_count": 6,
   "id": "628bf1c7",
   "metadata": {},
   "outputs": [
    {
     "data": {
      "text/plain": [
       "\"i'm udaya\""
      ]
     },
     "execution_count": 6,
     "metadata": {},
     "output_type": "execute_result"
    }
   ],
   "source": [
    "\"i'm udaya\""
   ]
  },
  {
   "cell_type": "code",
   "execution_count": 7,
   "id": "bd1b773d",
   "metadata": {},
   "outputs": [
    {
     "data": {
      "text/plain": [
       "'code x udaya'"
      ]
     },
     "execution_count": 7,
     "metadata": {},
     "output_type": "execute_result"
    }
   ],
   "source": [
    "\"code x udaya\""
   ]
  },
  {
   "cell_type": "markdown",
   "id": "d55028e7",
   "metadata": {},
   "source": [
    "**Great! we learn How to Create a String"
   ]
  },
  {
   "cell_type": "markdown",
   "id": "e7068447",
   "metadata": {},
   "source": [
    "Now let's learn about printing strings!"
   ]
  },
  {
   "cell_type": "markdown",
   "id": "6ac5619e",
   "metadata": {},
   "source": [
    "## Printing a String\n",
    "\n",
    "IN Jupyter notebook with just a string in a cell will automatically output strings, but the correct way to display string is by using a print function."
   ]
  },
  {
   "cell_type": "code",
   "execution_count": 8,
   "id": "54fadc27",
   "metadata": {},
   "outputs": [
    {
     "data": {
      "text/plain": [
       "'codex'"
      ]
     },
     "execution_count": 8,
     "metadata": {},
     "output_type": "execute_result"
    }
   ],
   "source": [
    "'codex'"
   ]
  },
  {
   "cell_type": "code",
   "execution_count": 9,
   "id": "4ad3579e",
   "metadata": {},
   "outputs": [
    {
     "name": "stdout",
     "output_type": "stream",
     "text": [
      "codex\n"
     ]
    }
   ],
   "source": [
    "print('codex')"
   ]
  },
  {
   "cell_type": "markdown",
   "id": "92523b79",
   "metadata": {},
   "source": [
    "We can use a print statement to print a string."
   ]
  },
  {
   "cell_type": "code",
   "execution_count": 10,
   "id": "b38670ef",
   "metadata": {},
   "outputs": [
    {
     "name": "stdout",
     "output_type": "stream",
     "text": [
      "code\n",
      "code x udaya\n"
     ]
    }
   ],
   "source": [
    "print(\"code\")\n",
    "print(\"code x udaya\")"
   ]
  },
  {
   "cell_type": "markdown",
   "id": "bc63786d",
   "metadata": {},
   "source": [
    "use of `\\n` for new line"
   ]
  },
  {
   "cell_type": "code",
   "execution_count": 12,
   "id": "84177384",
   "metadata": {},
   "outputs": [
    {
     "name": "stdout",
     "output_type": "stream",
     "text": [
      "code\n",
      "code \n",
      "x udaya\n"
     ]
    }
   ],
   "source": [
    "print(\"code\")\n",
    "print(\"code \\nx udaya\")"
   ]
  },
  {
   "cell_type": "code",
   "execution_count": 14,
   "id": "5ede6a9a",
   "metadata": {},
   "outputs": [
    {
     "name": "stdout",
     "output_type": "stream",
     "text": [
      "code\n",
      "code \n",
      "x udaya\n",
      "\n",
      "\n",
      "it's done\n"
     ]
    }
   ],
   "source": [
    "print(\"code\")\n",
    "print(\"code \\nx udaya\")\n",
    "print('\\n')\n",
    "print(\"it's done\")"
   ]
  },
  {
   "cell_type": "code",
   "execution_count": null,
   "id": "eb6359b8",
   "metadata": {},
   "outputs": [],
   "source": [
    "**Great! we learn How to Print a String"
   ]
  },
  {
   "cell_type": "markdown",
   "id": "f08d5af4",
   "metadata": {
    "collapsed": true
   },
   "source": [
    "## String Properties"
   ]
  },
  {
   "cell_type": "markdown",
   "id": "df50eecc",
   "metadata": {},
   "source": [
    "Concatenation +"
   ]
  },
  {
   "cell_type": "code",
   "execution_count": 18,
   "id": "753728e2",
   "metadata": {},
   "outputs": [
    {
     "name": "stdout",
     "output_type": "stream",
     "text": [
      "string1string2\n",
      "\n",
      "\n",
      "string1string2\n",
      "\n",
      "\n",
      "string1 string2\n",
      "\n",
      "\n",
      "string1 string2\n"
     ]
    }
   ],
   "source": [
    "a = 'string1'\n",
    "b = 'string2'\n",
    "c = \" \"\n",
    "print(a+b)\n",
    "print('\\n')\n",
    "print(a+\"\"+b)\n",
    "print('\\n')\n",
    "print(a+\" \"+b)\n",
    "print('\\n')\n",
    "print(a+c+b)"
   ]
  },
  {
   "cell_type": "code",
   "execution_count": null,
   "id": "8dea8a3d",
   "metadata": {},
   "outputs": [],
   "source": []
  },
  {
   "cell_type": "markdown",
   "id": "81e259d8",
   "metadata": {},
   "source": [
    "Replication *"
   ]
  },
  {
   "cell_type": "code",
   "execution_count": 20,
   "id": "c5ea5aa1",
   "metadata": {},
   "outputs": [
    {
     "name": "stdout",
     "output_type": "stream",
     "text": [
      "str1str1\n",
      "str1str1str1str1str1\n"
     ]
    }
   ],
   "source": [
    "a = 'str1'\n",
    "print(a * 2)\n",
    "print(a * 5)"
   ]
  },
  {
   "cell_type": "code",
   "execution_count": null,
   "id": "c6780ecc",
   "metadata": {},
   "outputs": [],
   "source": []
  },
  {
   "cell_type": "code",
   "execution_count": null,
   "id": "a2ef4f13",
   "metadata": {},
   "outputs": [],
   "source": []
  },
  {
   "cell_type": "markdown",
   "id": "5d8e0404",
   "metadata": {},
   "source": [
    "# codeXudaya\n",
    "\n",
    "[Subscribe to CodeXudaya on YouTube](https://www.youtube.com/@codeXudaya) \n",
    "-------------------------------------------------------------------------\n",
    "[Follow CodeXudaya on Instagram](https://www.instagram.com/codexudaya/)\n",
    "-------------------------------------------------------------------------"
   ]
  }
 ],
 "metadata": {
  "kernelspec": {
   "display_name": "Python 3 (ipykernel)",
   "language": "python",
   "name": "python3"
  },
  "language_info": {
   "codemirror_mode": {
    "name": "ipython",
    "version": 3
   },
   "file_extension": ".py",
   "mimetype": "text/x-python",
   "name": "python",
   "nbconvert_exporter": "python",
   "pygments_lexer": "ipython3",
   "version": "3.11.5"
  }
 },
 "nbformat": 4,
 "nbformat_minor": 5
}
