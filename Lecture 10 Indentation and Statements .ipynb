{
 "cells": [
  {
   "cell_type": "markdown",
   "id": "7c404ece",
   "metadata": {},
   "source": [
    "# <a href='https://www.youtube.com/@codeXudaya'><img src='CodeXudaya.png'/></a>\n",
    "___\n",
    "<center><em>Content Copyright by codeXudaya</em></center>\n",
    "\n",
    "# Python Beginner to Expert"
   ]
  },
  {
   "cell_type": "markdown",
   "id": "71b37c66",
   "metadata": {},
   "source": [
    "## Lecture No 10\n",
    "Topic To be Covered\n",
    "* Python vs Other Lang\n",
    "* Indentation\n",
    "* Statements and types"
   ]
  },
  {
   "cell_type": "markdown",
   "id": "86cdf58c",
   "metadata": {},
   "source": [
    "## Python vs Other Languages\n",
    "\n",
    "Let's create a simple statement that says:\n",
    "\"If a is greater than b, assign 2 to a and 4 to b\"\n",
    "\n",
    "Take a look at these two if statements.\n",
    "\n",
    "**Other Languages**\n",
    "\n",
    "    if (a>b){\n",
    "        a = 2;\n",
    "        b = 4;\n",
    "    }\n",
    "                        \n",
    "**Python**   \n",
    "\n",
    "    if a>b:\n",
    "        a = 2\n",
    "        b = 4"
   ]
  },
  {
   "cell_type": "markdown",
   "id": "73b69f2a",
   "metadata": {},
   "source": [
    "Python gets rid of () and {} \n",
    "so it introduced a *colon* , *whitespace* & *Indentation*\n",
    "\n",
    "## Indentation\n",
    "        \n",
    "**Python**\n",
    "    \n",
    "    if x:\n",
    "        execute this\n",
    "    else:\n",
    "        execute this"
   ]
  },
  {
   "cell_type": "markdown",
   "id": "2ce2e8c6",
   "metadata": {},
   "source": [
    "**`Indentation` in programming refers to the use of `whitespace` (usually spaces or tabs) at the beginning of a line to determine the `grouping of code`**"
   ]
  },
  {
   "cell_type": "code",
   "execution_count": null,
   "id": "3ce764ee",
   "metadata": {},
   "outputs": [],
   "source": [
    "          "
   ]
  },
  {
   "cell_type": "code",
   "execution_count": null,
   "id": "c6d345d3",
   "metadata": {},
   "outputs": [],
   "source": []
  },
  {
   "cell_type": "markdown",
   "id": "e10e05ce",
   "metadata": {},
   "source": [
    "*`indentation` is not just for `readability`; it is a part of the `syntax`. The level of indentation indicates the `level of nesting` and the `scope of a code block`.*"
   ]
  },
  {
   "cell_type": "markdown",
   "id": "acc555c3",
   "metadata": {},
   "source": [
    "## Statements\n",
    "* Selection Statement\n",
    "* Looping Statement"
   ]
  },
  {
   "cell_type": "markdown",
   "id": "fcce4855",
   "metadata": {},
   "source": [
    "### Selection statement\n",
    "* often referred to as conditional statements\n",
    "* allow a program to make decisions based on the evaluation of a condition.\n",
    "* They control the execution of different code blocks based on whether a specified condition is true or false."
   ]
  },
  {
   "cell_type": "markdown",
   "id": "9b540658",
   "metadata": {},
   "source": [
    "## Example \n",
    "* if\n",
    "* elif\n",
    "* else"
   ]
  },
  {
   "cell_type": "code",
   "execution_count": null,
   "id": "7d80a9ed",
   "metadata": {
    "slideshow": {
     "slide_type": "slide"
    }
   },
   "outputs": [],
   "source": []
  },
  {
   "cell_type": "markdown",
   "id": "42d45b21",
   "metadata": {},
   "source": [
    "### Looping Statements\n",
    "\n",
    "* Looping statements, or loops, allow a program to repeatedly execute a block of code as long as a certain condition is true. \n",
    "* They are used to automate repetitive tasks and to iterate over a sequence of elements."
   ]
  },
  {
   "cell_type": "markdown",
   "id": "fcd7fa5f",
   "metadata": {},
   "source": [
    "### Examples\n",
    "* for Loop\n",
    "* while Loop"
   ]
  },
  {
   "cell_type": "code",
   "execution_count": null,
   "id": "437bb0f0",
   "metadata": {},
   "outputs": [],
   "source": []
  },
  {
   "cell_type": "markdown",
   "id": "1ec1618f",
   "metadata": {
    "collapsed": true
   },
   "source": [
    "## Let's code on Next Lecture!"
   ]
  },
  {
   "cell_type": "markdown",
   "id": "1664c0f8",
   "metadata": {},
   "source": [
    "# codeXudaya\n",
    "\n",
    "[Subscribe to CodeXudaya on YouTube](https://www.youtube.com/@codeXudaya) \n",
    "-------------------------------------------------------------------------\n",
    "[Follow CodeXudaya on Instagram](https://www.instagram.com/codexudaya/)\n",
    "-------------------------------------------------------------------------"
   ]
  }
 ],
 "metadata": {
  "kernelspec": {
   "display_name": "Python 3 (ipykernel)",
   "language": "python",
   "name": "python3"
  },
  "language_info": {
   "codemirror_mode": {
    "name": "ipython",
    "version": 3
   },
   "file_extension": ".py",
   "mimetype": "text/x-python",
   "name": "python",
   "nbconvert_exporter": "python",
   "pygments_lexer": "ipython3",
   "version": "3.11.5"
  }
 },
 "nbformat": 4,
 "nbformat_minor": 5
}
