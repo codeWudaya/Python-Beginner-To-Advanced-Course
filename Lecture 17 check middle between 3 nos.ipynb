{
 "cells": [
  {
   "cell_type": "markdown",
   "id": "0056884a",
   "metadata": {},
   "source": [
    "# <a href='https://www.youtube.com/@codeXudaya'><img src='CodeXudaya.png'/></a>\n",
    "___\n",
    "<center><em>Content Copyright by codeXudaya</em></center>"
   ]
  },
  {
   "cell_type": "markdown",
   "id": "4924d64d",
   "metadata": {},
   "source": [
    "# Lecture No 17"
   ]
  },
  {
   "cell_type": "markdown",
   "id": "26b5e562",
   "metadata": {},
   "source": [
    "### WAP to check middle between 3 nos"
   ]
  },
  {
   "cell_type": "code",
   "execution_count": 1,
   "id": "7418f028",
   "metadata": {},
   "outputs": [
    {
     "name": "stdout",
     "output_type": "stream",
     "text": [
      "Enter 1st no 4\n",
      "Enter 2nd no 5\n",
      "Enter 3rd no 6\n",
      "5 is middle\n"
     ]
    }
   ],
   "source": [
    "a = int(input(\"Enter 1st no \"))\n",
    "b = int(input(\"Enter 2nd no \"))\n",
    "c = int(input(\"Enter 3rd no \"))\n",
    "\n",
    "if (b<=a<=c) or (c<=a<=b):\n",
    "    print(f\"{a} is middle\")\n",
    "elif (a<=b<=c) or (c<=b<=a):\n",
    "    print(f\"{b} is middle\")\n",
    "else:\n",
    "    print(f\"{c} is middle\")"
   ]
  },
  {
   "cell_type": "markdown",
   "id": "5d8e0404",
   "metadata": {},
   "source": [
    "# codeXudaya\n",
    "\n",
    "[Subscribe to CodeXudaya on YouTube](https://www.youtube.com/@codeXudaya) \n",
    "-------------------------------------------------------------------------\n",
    "[Follow CodeXudaya on Instagram](https://www.instagram.com/codexudaya/)\n",
    "-------------------------------------------------------------------------"
   ]
  }
 ],
 "metadata": {
  "kernelspec": {
   "display_name": "Python 3 (ipykernel)",
   "language": "python",
   "name": "python3"
  },
  "language_info": {
   "codemirror_mode": {
    "name": "ipython",
    "version": 3
   },
   "file_extension": ".py",
   "mimetype": "text/x-python",
   "name": "python",
   "nbconvert_exporter": "python",
   "pygments_lexer": "ipython3",
   "version": "3.11.5"
  }
 },
 "nbformat": 4,
 "nbformat_minor": 5
}
