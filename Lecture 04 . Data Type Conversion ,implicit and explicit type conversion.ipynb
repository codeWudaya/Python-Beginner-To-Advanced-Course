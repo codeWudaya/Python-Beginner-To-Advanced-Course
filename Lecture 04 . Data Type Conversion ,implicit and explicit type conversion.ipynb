{
 "cells": [
  {
   "cell_type": "markdown",
   "id": "0056884a",
   "metadata": {},
   "source": [
    "# <a href='https://www.youtube.com/@codeXudaya'><img src='CodeXudaya.png'/></a>\n",
    "___\n",
    "<center><em>Content Copyright by codeXudaya</em></center>"
   ]
  },
  {
   "cell_type": "markdown",
   "id": "23491b16",
   "metadata": {},
   "source": [
    "# Lecture 04\n",
    "# Python Beginner to Expert"
   ]
  },
  {
   "cell_type": "markdown",
   "id": "405b904b",
   "metadata": {},
   "source": [
    "# Data Type conversion\n",
    "\n",
    "Let's discuss the ways in which the conversion is handled."
   ]
  },
  {
   "cell_type": "markdown",
   "id": "20cc299a",
   "metadata": {},
   "source": [
    "* implicit\n",
    "* explicit"
   ]
  },
  {
   "cell_type": "markdown",
   "id": "c53761d4",
   "metadata": {},
   "source": [
    "# implicit\n",
    "* Implicit conversion occurs automatically when the system recognizes that a data type needs to be converted to another type.\n",
    "* This conversion is performed by the compiler or interpreter without any explicit instructions from the programmer.\n",
    "* It is also known as \"automatic conversion\" because it happens implicitly during the execution of the program."
   ]
  },
  {
   "cell_type": "code",
   "execution_count": 2,
   "id": "db3bafc1",
   "metadata": {},
   "outputs": [
    {
     "name": "stdout",
     "output_type": "stream",
     "text": [
      "50.03\n"
     ]
    },
    {
     "data": {
      "text/plain": [
       "float"
      ]
     },
     "execution_count": 2,
     "metadata": {},
     "output_type": "execute_result"
    }
   ],
   "source": []
  },
  {
   "cell_type": "code",
   "execution_count": null,
   "id": "78e3cd11",
   "metadata": {},
   "outputs": [],
   "source": []
  },
  {
   "cell_type": "markdown",
   "id": "ccbb3c4c",
   "metadata": {},
   "source": [
    "Integer to Float"
   ]
  },
  {
   "cell_type": "code",
   "execution_count": 3,
   "id": "c85bf9d3",
   "metadata": {},
   "outputs": [
    {
     "name": "stdout",
     "output_type": "stream",
     "text": [
      "50.03\n"
     ]
    },
    {
     "data": {
      "text/plain": [
       "float"
      ]
     },
     "execution_count": 3,
     "metadata": {},
     "output_type": "execute_result"
    }
   ],
   "source": [
    "a = 20 #int\n",
    "b = 30.03 #floate\n",
    "c = a+b\n",
    "print(c)\n",
    "type(c)"
   ]
  },
  {
   "cell_type": "markdown",
   "id": "676a6e10",
   "metadata": {},
   "source": [
    "Integer Division"
   ]
  },
  {
   "cell_type": "code",
   "execution_count": 4,
   "id": "825212bd",
   "metadata": {},
   "outputs": [
    {
     "data": {
      "text/plain": [
       "float"
      ]
     },
     "execution_count": 4,
     "metadata": {},
     "output_type": "execute_result"
    }
   ],
   "source": [
    "a = 20\n",
    "b =3\n",
    "c = a/b\n",
    "type(c)"
   ]
  },
  {
   "cell_type": "code",
   "execution_count": 5,
   "id": "800e9936",
   "metadata": {},
   "outputs": [
    {
     "data": {
      "text/plain": [
       "6.666666666666667"
      ]
     },
     "execution_count": 5,
     "metadata": {},
     "output_type": "execute_result"
    }
   ],
   "source": [
    "c"
   ]
  },
  {
   "cell_type": "markdown",
   "id": "6c2fefd8",
   "metadata": {},
   "source": [
    "Boolean to Integer"
   ]
  },
  {
   "cell_type": "code",
   "execution_count": 6,
   "id": "e4ce1ed1",
   "metadata": {},
   "outputs": [
    {
     "name": "stdout",
     "output_type": "stream",
     "text": [
      "4\n"
     ]
    }
   ],
   "source": [
    "a = True  #1\n",
    "b = 3\n",
    "c =a+b\n",
    "print(c)"
   ]
  },
  {
   "cell_type": "code",
   "execution_count": 7,
   "id": "4326637b",
   "metadata": {},
   "outputs": [
    {
     "name": "stdout",
     "output_type": "stream",
     "text": [
      "3\n"
     ]
    }
   ],
   "source": [
    "a = False #0\n",
    "b = 3\n",
    "c =a+b\n",
    "print(c)"
   ]
  },
  {
   "cell_type": "code",
   "execution_count": 9,
   "id": "b66e722f",
   "metadata": {},
   "outputs": [
    {
     "data": {
      "text/plain": [
       "float"
      ]
     },
     "execution_count": 9,
     "metadata": {},
     "output_type": "execute_result"
    }
   ],
   "source": [
    "a = True  #1\n",
    "b = 3.9\n",
    "c =a+b\n",
    "type(c)"
   ]
  },
  {
   "cell_type": "markdown",
   "id": "86ab5a0f",
   "metadata": {},
   "source": [
    "# Explicit Conversion\n",
    "* Explicit conversion, also known as type casting,\n",
    "* requires the programmer to specify the conversion explicitly.\n",
    "* The programmer uses special functions or syntax to perform explicit conversion."
   ]
  },
  {
   "cell_type": "markdown",
   "id": "e66ca8ce",
   "metadata": {},
   "source": [
    "Float to Integer"
   ]
  },
  {
   "cell_type": "code",
   "execution_count": 11,
   "id": "fca2ab54",
   "metadata": {},
   "outputs": [
    {
     "name": "stdout",
     "output_type": "stream",
     "text": [
      "3\n"
     ]
    }
   ],
   "source": [
    "a = 3.3\n",
    "b=int(a)\n",
    "type(b)\n",
    "\n",
    "print(b)"
   ]
  },
  {
   "cell_type": "code",
   "execution_count": 12,
   "id": "29942d35",
   "metadata": {},
   "outputs": [
    {
     "name": "stdout",
     "output_type": "stream",
     "text": [
      "3\n"
     ]
    }
   ],
   "source": [
    "a = 3.3\n",
    "a=int(a)\n",
    "type(a)\n",
    "\n",
    "print(a)"
   ]
  },
  {
   "cell_type": "markdown",
   "id": "f02f6396",
   "metadata": {},
   "source": [
    "String to Integer"
   ]
  },
  {
   "cell_type": "markdown",
   "id": "624391fb",
   "metadata": {},
   "source": [
    "case 1"
   ]
  },
  {
   "cell_type": "code",
   "execution_count": 13,
   "id": "524fd76e",
   "metadata": {},
   "outputs": [
    {
     "name": "stdout",
     "output_type": "stream",
     "text": [
      "88\n"
     ]
    },
    {
     "data": {
      "text/plain": [
       "int"
      ]
     },
     "execution_count": 13,
     "metadata": {},
     "output_type": "execute_result"
    }
   ],
   "source": [
    "a = \"88\"\n",
    "a = int(a)\n",
    "print(a)\n",
    "type(a)"
   ]
  },
  {
   "cell_type": "code",
   "execution_count": null,
   "id": "c3896924",
   "metadata": {},
   "outputs": [],
   "source": []
  },
  {
   "cell_type": "markdown",
   "id": "9e531c4a",
   "metadata": {},
   "source": [
    "case2"
   ]
  },
  {
   "cell_type": "code",
   "execution_count": 14,
   "id": "7afaf0a3",
   "metadata": {},
   "outputs": [
    {
     "ename": "ValueError",
     "evalue": "invalid literal for int() with base 10: 'code'",
     "output_type": "error",
     "traceback": [
      "\u001b[1;31m---------------------------------------------------------------------------\u001b[0m",
      "\u001b[1;31mValueError\u001b[0m                                Traceback (most recent call last)",
      "Cell \u001b[1;32mIn[14], line 2\u001b[0m\n\u001b[0;32m      1\u001b[0m a \u001b[38;5;241m=\u001b[39m \u001b[38;5;124m\"\u001b[39m\u001b[38;5;124mcode\u001b[39m\u001b[38;5;124m\"\u001b[39m\n\u001b[1;32m----> 2\u001b[0m a \u001b[38;5;241m=\u001b[39m \u001b[38;5;28mint\u001b[39m(a)\n\u001b[0;32m      3\u001b[0m \u001b[38;5;28mprint\u001b[39m(a)\n\u001b[0;32m      4\u001b[0m \u001b[38;5;28mtype\u001b[39m(a)\n",
      "\u001b[1;31mValueError\u001b[0m: invalid literal for int() with base 10: 'code'"
     ]
    }
   ],
   "source": [
    "a = \"code\"\n",
    "a = int(a)\n",
    "print(a)\n",
    "type(a)"
   ]
  },
  {
   "cell_type": "markdown",
   "id": "bb82e7da",
   "metadata": {},
   "source": [
    "in the above case it will error as you can't covert 'code' to integer"
   ]
  },
  {
   "cell_type": "markdown",
   "id": "5bb62674",
   "metadata": {},
   "source": [
    "Integer to String"
   ]
  },
  {
   "cell_type": "code",
   "execution_count": null,
   "id": "61af7ac9",
   "metadata": {},
   "outputs": [],
   "source": [
    "a = \"88\"\n",
    "a = int(a)\n",
    "print(a)\n",
    "type(a)"
   ]
  },
  {
   "cell_type": "markdown",
   "id": "27bfbac1",
   "metadata": {},
   "source": [
    "List to Tuple"
   ]
  },
  {
   "cell_type": "code",
   "execution_count": 17,
   "id": "41e9a515",
   "metadata": {},
   "outputs": [
    {
     "name": "stdout",
     "output_type": "stream",
     "text": [
      "<class 'list'>\n"
     ]
    },
    {
     "data": {
      "text/plain": [
       "tuple"
      ]
     },
     "execution_count": 17,
     "metadata": {},
     "output_type": "execute_result"
    }
   ],
   "source": [
    "lst = [2,3,4]\n",
    "print(type(lst))\n",
    "lst=tuple(lst)\n",
    "type(lst)"
   ]
  },
  {
   "cell_type": "markdown",
   "id": "424a2aa8",
   "metadata": {},
   "source": [
    "Integer to Boolean"
   ]
  },
  {
   "cell_type": "code",
   "execution_count": 20,
   "id": "9bbf3227",
   "metadata": {},
   "outputs": [
    {
     "data": {
      "text/plain": [
       "bool"
      ]
     },
     "execution_count": 20,
     "metadata": {},
     "output_type": "execute_result"
    }
   ],
   "source": [
    "a = 1  #int\n",
    "a = bool(a)\n",
    "type(a)"
   ]
  },
  {
   "cell_type": "markdown",
   "id": "4e33eb44",
   "metadata": {},
   "source": [
    "Set to List"
   ]
  },
  {
   "cell_type": "code",
   "execution_count": 21,
   "id": "f59018b8",
   "metadata": {},
   "outputs": [
    {
     "data": {
      "text/plain": [
       "list"
      ]
     },
     "execution_count": 21,
     "metadata": {},
     "output_type": "execute_result"
    }
   ],
   "source": [
    "sett={2,3,4}\n",
    "lst=list(sett)\n",
    "type(lst)"
   ]
  },
  {
   "cell_type": "markdown",
   "id": "3387318d",
   "metadata": {},
   "source": [
    "Great! now We understand the `implicit` and `explicit` type conversion ..."
   ]
  },
  {
   "cell_type": "markdown",
   "id": "5d8e0404",
   "metadata": {},
   "source": [
    "# codeXudaya\n",
    "\n",
    "[Subscribe to CodeXudaya on YouTube](https://www.youtube.com/@codeXudaya) \n",
    "-------------------------------------------------------------------------\n",
    "[Follow CodeXudaya on Instagram](https://www.instagram.com/codexudaya/)\n",
    "-------------------------------------------------------------------------"
   ]
  }
 ],
 "metadata": {
  "kernelspec": {
   "display_name": "Python 3 (ipykernel)",
   "language": "python",
   "name": "python3"
  },
  "language_info": {
   "codemirror_mode": {
    "name": "ipython",
    "version": 3
   },
   "file_extension": ".py",
   "mimetype": "text/x-python",
   "name": "python",
   "nbconvert_exporter": "python",
   "pygments_lexer": "ipython3",
   "version": "3.11.5"
  }
 },
 "nbformat": 4,
 "nbformat_minor": 5
}
