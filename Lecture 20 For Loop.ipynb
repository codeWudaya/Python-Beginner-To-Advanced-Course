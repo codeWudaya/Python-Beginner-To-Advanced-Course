{
 "cells": [
  {
   "cell_type": "markdown",
   "id": "7c404ece",
   "metadata": {},
   "source": [
    "# <a href='https://www.youtube.com/@codeXudaya'><img src='CodeXudaya.png'/></a>\n",
    "___\n",
    "<center><em>Content Copyright by codeXudaya</em></center>\n",
    "\n",
    "# Python Beginner to Expert"
   ]
  },
  {
   "cell_type": "markdown",
   "id": "acc555c3",
   "metadata": {},
   "source": [
    "## Statements\n",
    "* Selection Statement\n",
    "* Looping Statement"
   ]
  },
  {
   "cell_type": "markdown",
   "id": "7c755d4a",
   "metadata": {},
   "source": [
    "# Lecture 20"
   ]
  },
  {
   "cell_type": "markdown",
   "id": "42d45b21",
   "metadata": {},
   "source": [
    "### Looping Statements\n",
    "\n",
    "* Looping statements, or loops, allow a program to repeatedly execute a block of code as long as a certain condition is true. \n",
    "* They are used to automate repetitive tasks and to iterate over a sequence of elements."
   ]
  },
  {
   "cell_type": "markdown",
   "id": "fcd7fa5f",
   "metadata": {},
   "source": [
    "### Examples\n",
    "* for Loop\n",
    "* while Loop"
   ]
  },
  {
   "cell_type": "markdown",
   "id": "1280c370",
   "metadata": {},
   "source": [
    "# for Loops\n",
    "\n",
    "`for` loop acts as an iterator in Python; it goes through iterable item.\n",
    "\n",
    "* `Iterable Includes`\n",
    "* strings, lists, tuples, and dictionaries ."
   ]
  },
  {
   "cell_type": "markdown",
   "id": "7f45dae1",
   "metadata": {},
   "source": [
    "### Example 1\n",
    "#### Iterating through string\n",
    "\n",
    "`string = \"\"`"
   ]
  },
  {
   "cell_type": "code",
   "execution_count": 4,
   "id": "85930e23",
   "metadata": {},
   "outputs": [
    {
     "name": "stdout",
     "output_type": "stream",
     "text": [
      "c\n",
      "o\n",
      "d\n",
      "e\n",
      "x\n",
      "u\n",
      "d\n",
      "a\n",
      "y\n",
      "a\n"
     ]
    }
   ],
   "source": [
    "for i in \"codexudaya\":\n",
    "    print(i)"
   ]
  },
  {
   "cell_type": "code",
   "execution_count": 5,
   "id": "92a486fc",
   "metadata": {},
   "outputs": [
    {
     "name": "stdout",
     "output_type": "stream",
     "text": [
      "c\n",
      "o\n",
      "d\n",
      "e\n",
      "x\n"
     ]
    }
   ],
   "source": [
    "string = \"codex\"\n",
    "for i in string:\n",
    "    print(i)"
   ]
  },
  {
   "cell_type": "markdown",
   "id": "68060590",
   "metadata": {},
   "source": [
    "### Example 2\n",
    "#### Iterating through List\n",
    "\n",
    "`lst = []`"
   ]
  },
  {
   "cell_type": "code",
   "execution_count": 6,
   "id": "fea03888",
   "metadata": {},
   "outputs": [
    {
     "name": "stdout",
     "output_type": "stream",
     "text": [
      "44\n",
      "66\n",
      "88\n",
      "99\n"
     ]
    }
   ],
   "source": [
    "for x in [44,66,88,99]:\n",
    "    print(x)"
   ]
  },
  {
   "cell_type": "code",
   "execution_count": 7,
   "id": "ae932a3a",
   "metadata": {},
   "outputs": [
    {
     "name": "stdout",
     "output_type": "stream",
     "text": [
      "44\n",
      "66\n",
      "88\n",
      "99\n"
     ]
    }
   ],
   "source": [
    "lst = [44,66,88,99]\n",
    "for x in lst:\n",
    "    print(x )"
   ]
  },
  {
   "cell_type": "code",
   "execution_count": 8,
   "id": "3d3b01cc",
   "metadata": {},
   "outputs": [
    {
     "name": "stdout",
     "output_type": "stream",
     "text": [
      "46\n",
      "68\n",
      "90\n",
      "101\n"
     ]
    }
   ],
   "source": [
    "lst = [44,66,88,99]\n",
    "for x in lst:\n",
    "    print(x + 2)"
   ]
  },
  {
   "cell_type": "markdown",
   "id": "43e1b017",
   "metadata": {},
   "source": [
    "### Example 3\n",
    "#### Iterating through tuple\n",
    "\n",
    "`tup = ()`"
   ]
  },
  {
   "cell_type": "code",
   "execution_count": 9,
   "id": "3aa8f6e7",
   "metadata": {},
   "outputs": [
    {
     "name": "stdout",
     "output_type": "stream",
     "text": [
      "3\n",
      "6\n",
      "8\n",
      "9\n"
     ]
    }
   ],
   "source": [
    "tup = (3,6,8,9)\n",
    "for i in tup:\n",
    "    print(i)"
   ]
  },
  {
   "cell_type": "code",
   "execution_count": null,
   "id": "fa53a8d5",
   "metadata": {},
   "outputs": [],
   "source": []
  },
  {
   "cell_type": "markdown",
   "id": "25db7c98",
   "metadata": {},
   "source": [
    "### Example 4\n",
    "#### Iterating through Set\n",
    "`set = {}`"
   ]
  },
  {
   "cell_type": "code",
   "execution_count": 10,
   "id": "d9f6e0dd",
   "metadata": {},
   "outputs": [
    {
     "name": "stdout",
     "output_type": "stream",
     "text": [
      "9\n",
      "3\n",
      "6\n",
      "7\n"
     ]
    }
   ],
   "source": [
    "sett = {3,6,7,9}\n",
    "for i in sett:\n",
    "    print(i)"
   ]
  },
  {
   "cell_type": "code",
   "execution_count": null,
   "id": "0531b1aa",
   "metadata": {},
   "outputs": [],
   "source": []
  },
  {
   "cell_type": "markdown",
   "id": "e00a5e6a",
   "metadata": {},
   "source": [
    "### Example 5\n",
    "#### Iterating using range function\n",
    "\n",
    "`range(start , stop , step)`"
   ]
  },
  {
   "cell_type": "code",
   "execution_count": 12,
   "id": "9b5c430f",
   "metadata": {},
   "outputs": [
    {
     "name": "stdout",
     "output_type": "stream",
     "text": [
      "1\n",
      "2\n",
      "3\n",
      "4\n",
      "5\n",
      "6\n"
     ]
    }
   ],
   "source": [
    "for i in range(1,7):\n",
    "    print(i)"
   ]
  },
  {
   "cell_type": "code",
   "execution_count": 13,
   "id": "9cf8e2bf",
   "metadata": {},
   "outputs": [
    {
     "name": "stdout",
     "output_type": "stream",
     "text": [
      "1\n",
      "3\n",
      "5\n"
     ]
    }
   ],
   "source": [
    "for i in range(1,7,2):\n",
    "    print(i)"
   ]
  },
  {
   "cell_type": "code",
   "execution_count": null,
   "id": "2a981641",
   "metadata": {},
   "outputs": [],
   "source": []
  },
  {
   "cell_type": "markdown",
   "id": "87f0c7c1",
   "metadata": {},
   "source": [
    "### Example 6\n",
    "#### Iterating through Dictionary\n",
    "\n",
    "`dic = {\"\":\"\" ,\"\":\"\" }`"
   ]
  },
  {
   "cell_type": "code",
   "execution_count": 14,
   "id": "0f68f16e",
   "metadata": {},
   "outputs": [
    {
     "data": {
      "text/plain": [
       "dict_keys(['a', 'b', 'c'])"
      ]
     },
     "execution_count": 14,
     "metadata": {},
     "output_type": "execute_result"
    }
   ],
   "source": [
    "dic = {\"a\":1,\"b\":2,\"c\":33}\n",
    "\n",
    "dic.keys()"
   ]
  },
  {
   "cell_type": "code",
   "execution_count": 16,
   "id": "a8d2ce85",
   "metadata": {},
   "outputs": [
    {
     "name": "stdout",
     "output_type": "stream",
     "text": [
      "a\n",
      "b\n",
      "c\n"
     ]
    }
   ],
   "source": [
    "for k in dic:\n",
    "    print(k) "
   ]
  },
  {
   "cell_type": "code",
   "execution_count": 17,
   "id": "bb14a077",
   "metadata": {},
   "outputs": [
    {
     "data": {
      "text/plain": [
       "dict_items([('a', 1), ('b', 2), ('c', 33)])"
      ]
     },
     "execution_count": 17,
     "metadata": {},
     "output_type": "execute_result"
    }
   ],
   "source": [
    "dic.items()"
   ]
  },
  {
   "cell_type": "code",
   "execution_count": 18,
   "id": "731666ae",
   "metadata": {},
   "outputs": [
    {
     "name": "stdout",
     "output_type": "stream",
     "text": [
      "('a', 1)\n",
      "('b', 2)\n",
      "('c', 33)\n"
     ]
    }
   ],
   "source": [
    "for i in dic.items():\n",
    "    print(i)"
   ]
  },
  {
   "cell_type": "code",
   "execution_count": 19,
   "id": "d9883857",
   "metadata": {},
   "outputs": [
    {
     "name": "stdout",
     "output_type": "stream",
     "text": [
      "a 1\n",
      "b 2\n",
      "c 33\n"
     ]
    }
   ],
   "source": [
    "for k,v in dic.items():\n",
    "    print(k,v)"
   ]
  },
  {
   "cell_type": "markdown",
   "id": "1ec1618f",
   "metadata": {
    "collapsed": true
   },
   "source": [
    "## Let's code on Next Lecture!"
   ]
  },
  {
   "cell_type": "markdown",
   "id": "1664c0f8",
   "metadata": {},
   "source": [
    "# codeXudaya\n",
    "\n",
    "[Subscribe to CodeXudaya on YouTube](https://www.youtube.com/@codeXudaya) \n",
    "-------------------------------------------------------------------------\n",
    "[Follow CodeXudaya on Instagram](https://www.instagram.com/codexudaya/)\n",
    "-------------------------------------------------------------------------"
   ]
  }
 ],
 "metadata": {
  "kernelspec": {
   "display_name": "Python 3 (ipykernel)",
   "language": "python",
   "name": "python3"
  },
  "language_info": {
   "codemirror_mode": {
    "name": "ipython",
    "version": 3
   },
   "file_extension": ".py",
   "mimetype": "text/x-python",
   "name": "python",
   "nbconvert_exporter": "python",
   "pygments_lexer": "ipython3",
   "version": "3.11.5"
  }
 },
 "nbformat": 4,
 "nbformat_minor": 5
}
