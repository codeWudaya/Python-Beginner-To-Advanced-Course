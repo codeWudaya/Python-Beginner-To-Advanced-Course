{
 "cells": [
  {
   "cell_type": "markdown",
   "id": "ef927b79",
   "metadata": {},
   "source": [
    "# <a href='https://www.youtube.com/@codeXudaya'><img src='CodeXudaya.png'/></a>\n",
    "___\n",
    "<center><em>Content Copyright by codeXudaya</em></center>"
   ]
  },
  {
   "cell_type": "markdown",
   "id": "be2eb9ff",
   "metadata": {},
   "source": [
    "# Lecture no - 9\n",
    "# Python Beginner to Expert"
   ]
  },
  {
   "cell_type": "markdown",
   "id": "b33c0a3e",
   "metadata": {},
   "source": [
    "# Strings"
   ]
  },
  {
   "cell_type": "markdown",
   "id": "6be64b96",
   "metadata": {},
   "source": [
    "In this lecture we'll learn about the following:\n",
    "\n",
    "    1.) String Formatting\n",
    "    2.) Built-in String methods"
   ]
  },
  {
   "cell_type": "code",
   "execution_count": 2,
   "id": "b6d32618",
   "metadata": {},
   "outputs": [
    {
     "name": "stdout",
     "output_type": "stream",
     "text": [
      "my name is udaya my age is 21\n"
     ]
    }
   ],
   "source": [
    "print(\"my name is udaya my age is 21\")"
   ]
  },
  {
   "cell_type": "markdown",
   "id": "20ea6521",
   "metadata": {},
   "source": [
    "# String Formatting"
   ]
  },
  {
   "cell_type": "markdown",
   "id": "70522bba",
   "metadata": {},
   "source": [
    "#### Using % Operator (Old Style Formatting):\n",
    "* `%s` is a placeholder for a `string`.\n",
    "* `%d` is a placeholder for an `integer`.\n",
    "* `%f` is a placeholder for a `floating-point number`."
   ]
  },
  {
   "cell_type": "code",
   "execution_count": 6,
   "id": "645cec52",
   "metadata": {},
   "outputs": [
    {
     "name": "stdout",
     "output_type": "stream",
     "text": [
      "my name is udaya my age is 21.990000 my roll is 23 \n"
     ]
    }
   ],
   "source": [
    "name = \"udaya\"\n",
    "age = 21.99\n",
    "roll = 23\n",
    "\n",
    "print(\"my name is %s my age is %f my roll is %d \"%(name,age,roll))"
   ]
  },
  {
   "cell_type": "code",
   "execution_count": 5,
   "id": "23555bb5",
   "metadata": {},
   "outputs": [
    {
     "name": "stdout",
     "output_type": "stream",
     "text": [
      "enter name udaya\n",
      "enter age34\n",
      "enter roll54\n",
      "my name is udaya my age is 34 my roll is 54 \n"
     ]
    }
   ],
   "source": [
    "name = input(\"enter name \")\n",
    "age = int(input(\"enter age\"))\n",
    "roll = int(input(\"enter roll\"))\n",
    "\n",
    "print(\"my name is %s my age is %d my roll is %d \"%(name,age,roll))"
   ]
  },
  {
   "cell_type": "markdown",
   "id": "f91de951",
   "metadata": {},
   "source": [
    "#### Using `.format()` Method (New Style Formatting):\n",
    "* `{}` serves as a placeholder."
   ]
  },
  {
   "cell_type": "code",
   "execution_count": 7,
   "id": "7782d284",
   "metadata": {},
   "outputs": [
    {
     "name": "stdout",
     "output_type": "stream",
     "text": [
      "my name is udaya my age is 21.99 roll is 23\n"
     ]
    }
   ],
   "source": [
    "name = \"udaya\"\n",
    "age = 21.99\n",
    "roll = 23\n",
    "\n",
    "print(\"my name is {} my age is {} roll is {}\".format(name,age,roll))"
   ]
  },
  {
   "cell_type": "markdown",
   "id": "b314db4b",
   "metadata": {},
   "source": [
    "#### Using f-strings (Python 3.6 and above):\n",
    "* Prefix the string with `f` or `F`.\n",
    "*  use curly braces `{}` as placeholders.\n",
    "* Variables or expressions inside the curly braces will be evaluated"
   ]
  },
  {
   "cell_type": "code",
   "execution_count": 8,
   "id": "3d9bd437",
   "metadata": {},
   "outputs": [
    {
     "name": "stdout",
     "output_type": "stream",
     "text": [
      "my name is udaya my age is 21.99 roll is 23\n"
     ]
    }
   ],
   "source": [
    "name = \"udaya\"\n",
    "age = 21.99\n",
    "roll = 23\n",
    "print(f\"my name is {name} my age is {age} roll is {roll}\")"
   ]
  },
  {
   "cell_type": "code",
   "execution_count": null,
   "id": "169db911",
   "metadata": {},
   "outputs": [],
   "source": []
  },
  {
   "cell_type": "markdown",
   "id": "47495b53",
   "metadata": {},
   "source": [
    "## Basic Built-in String methods\n",
    "\n",
    "object.method(parameters)\n",
    "\n",
    "Where parameters are extra arguments we can pass into the method."
   ]
  },
  {
   "cell_type": "code",
   "execution_count": 9,
   "id": "e17b68d3",
   "metadata": {},
   "outputs": [
    {
     "name": "stdout",
     "output_type": "stream",
     "text": [
      "10\n"
     ]
    }
   ],
   "source": [
    "string = \"codeXudaya\"\n",
    "print(len(string))"
   ]
  },
  {
   "cell_type": "markdown",
   "id": "0b284ad9",
   "metadata": {},
   "source": [
    "upper Case a string"
   ]
  },
  {
   "cell_type": "code",
   "execution_count": 10,
   "id": "0cfb634c",
   "metadata": {},
   "outputs": [
    {
     "data": {
      "text/plain": [
       "'CODEXUDAYA'"
      ]
     },
     "execution_count": 10,
     "metadata": {},
     "output_type": "execute_result"
    }
   ],
   "source": [
    "string = \"codeXudaya\"\n",
    "string.upper()"
   ]
  },
  {
   "cell_type": "markdown",
   "id": "4dc6d73e",
   "metadata": {},
   "source": [
    "lower case a string"
   ]
  },
  {
   "cell_type": "code",
   "execution_count": 11,
   "id": "a942f80d",
   "metadata": {},
   "outputs": [
    {
     "data": {
      "text/plain": [
       "'codexudaya'"
      ]
     },
     "execution_count": 11,
     "metadata": {},
     "output_type": "execute_result"
    }
   ],
   "source": [
    "string = \"CODEXUDAYA\"\n",
    "\n",
    "string.lower()"
   ]
  },
  {
   "cell_type": "markdown",
   "id": "e6663f1b",
   "metadata": {},
   "source": [
    "Split"
   ]
  },
  {
   "cell_type": "code",
   "execution_count": 12,
   "id": "1dee3e05",
   "metadata": {},
   "outputs": [
    {
     "data": {
      "text/plain": [
       "['code', 'x', 'udaya']"
      ]
     },
     "execution_count": 12,
     "metadata": {},
     "output_type": "execute_result"
    }
   ],
   "source": [
    "string = \"code x udaya\"\n",
    "\n",
    "string.split()"
   ]
  },
  {
   "cell_type": "code",
   "execution_count": null,
   "id": "708d2dd6",
   "metadata": {},
   "outputs": [],
   "source": []
  },
  {
   "cell_type": "markdown",
   "id": "e1bbc12e",
   "metadata": {},
   "source": [
    "Split by a specific element \n",
    "* (doesn't include the element that was split on)"
   ]
  },
  {
   "cell_type": "code",
   "execution_count": 13,
   "id": "6b39149e",
   "metadata": {},
   "outputs": [
    {
     "data": {
      "text/plain": [
       "['c', 'dec', 'dec', 'decc', 'de']"
      ]
     },
     "execution_count": 13,
     "metadata": {},
     "output_type": "execute_result"
    }
   ],
   "source": [
    "string = \"codecodecodeccode\"\n",
    "string.split('o')"
   ]
  },
  {
   "cell_type": "code",
   "execution_count": 14,
   "id": "58172e54",
   "metadata": {},
   "outputs": [
    {
     "data": {
      "text/plain": [
       "['code', 'code', 'odecc', 'ode']"
      ]
     },
     "execution_count": 14,
     "metadata": {},
     "output_type": "execute_result"
    }
   ],
   "source": [
    "string = \"code/code/odecc/ode\"\n",
    "string.split('/')"
   ]
  },
  {
   "cell_type": "markdown",
   "id": "bd4ab693",
   "metadata": {},
   "source": [
    "Length of the string"
   ]
  },
  {
   "cell_type": "code",
   "execution_count": 15,
   "id": "3575849e",
   "metadata": {},
   "outputs": [
    {
     "data": {
      "text/plain": [
       "19"
      ]
     },
     "execution_count": 15,
     "metadata": {},
     "output_type": "execute_result"
    }
   ],
   "source": [
    "len(string)"
   ]
  },
  {
   "cell_type": "markdown",
   "id": "b80105c5",
   "metadata": {},
   "source": [
    "capitalize the first letter"
   ]
  },
  {
   "cell_type": "code",
   "execution_count": 16,
   "id": "b7ad54c0",
   "metadata": {},
   "outputs": [
    {
     "data": {
      "text/plain": [
       "'Codecodecodeccode'"
      ]
     },
     "execution_count": 16,
     "metadata": {},
     "output_type": "execute_result"
    }
   ],
   "source": [
    "string = \"codecodecodeccode\"\n",
    "string.capitalize()"
   ]
  },
  {
   "cell_type": "code",
   "execution_count": 17,
   "id": "558e40b1",
   "metadata": {},
   "outputs": [
    {
     "data": {
      "text/plain": [
       "'Code code code ccode'"
      ]
     },
     "execution_count": 17,
     "metadata": {},
     "output_type": "execute_result"
    }
   ],
   "source": [
    "string = \"code code code ccode\"\n",
    "string.capitalize()"
   ]
  },
  {
   "cell_type": "markdown",
   "id": "3423cf18",
   "metadata": {},
   "source": [
    "count occurrences of a substring"
   ]
  },
  {
   "cell_type": "code",
   "execution_count": 19,
   "id": "7b5f6cec",
   "metadata": {},
   "outputs": [
    {
     "data": {
      "text/plain": [
       "0"
      ]
     },
     "execution_count": 19,
     "metadata": {},
     "output_type": "execute_result"
    }
   ],
   "source": [
    "string = \"code code code ccode\"\n",
    "string.count('udaya')"
   ]
  },
  {
   "cell_type": "markdown",
   "id": "c366a25f",
   "metadata": {},
   "source": [
    "Find the index of a substring (returns -1 if not found)"
   ]
  },
  {
   "cell_type": "code",
   "execution_count": 21,
   "id": "fd0cb91f",
   "metadata": {},
   "outputs": [
    {
     "data": {
      "text/plain": [
       "' uday x code '"
      ]
     },
     "execution_count": 21,
     "metadata": {},
     "output_type": "execute_result"
    }
   ],
   "source": [
    "string1=\" uday x code \"\n",
    "string1"
   ]
  },
  {
   "cell_type": "markdown",
   "id": "efa0f9e2",
   "metadata": {},
   "source": [
    "strip() leading and trailing whitespaces"
   ]
  },
  {
   "cell_type": "code",
   "execution_count": 22,
   "id": "97f7e2ad",
   "metadata": {},
   "outputs": [
    {
     "data": {
      "text/plain": [
       "' uday x code '"
      ]
     },
     "execution_count": 22,
     "metadata": {},
     "output_type": "execute_result"
    }
   ],
   "source": [
    "string1=\" uday x code \"\n",
    "string1"
   ]
  },
  {
   "cell_type": "markdown",
   "id": "35e1a15c",
   "metadata": {},
   "source": [
    "case 1 -- lstrip()"
   ]
  },
  {
   "cell_type": "code",
   "execution_count": 23,
   "id": "65455b49",
   "metadata": {},
   "outputs": [
    {
     "data": {
      "text/plain": [
       "'uday x code '"
      ]
     },
     "execution_count": 23,
     "metadata": {},
     "output_type": "execute_result"
    }
   ],
   "source": [
    "string1.lstrip()"
   ]
  },
  {
   "cell_type": "markdown",
   "id": "8e620946",
   "metadata": {},
   "source": [
    "case 2 -- rstrip()"
   ]
  },
  {
   "cell_type": "code",
   "execution_count": 24,
   "id": "f1906cc5",
   "metadata": {},
   "outputs": [
    {
     "data": {
      "text/plain": [
       "' uday x code'"
      ]
     },
     "execution_count": 24,
     "metadata": {},
     "output_type": "execute_result"
    }
   ],
   "source": [
    "string1.rstrip()"
   ]
  },
  {
   "cell_type": "markdown",
   "id": "a2d245ca",
   "metadata": {},
   "source": [
    "case 3 -- strip()"
   ]
  },
  {
   "cell_type": "code",
   "execution_count": 25,
   "id": "f376b4d6",
   "metadata": {},
   "outputs": [
    {
     "data": {
      "text/plain": [
       "'uday x code'"
      ]
     },
     "execution_count": 25,
     "metadata": {},
     "output_type": "execute_result"
    }
   ],
   "source": [
    "string1.strip()"
   ]
  },
  {
   "cell_type": "markdown",
   "id": "197880a6",
   "metadata": {},
   "source": [
    "Check string isupper() case or islower() case"
   ]
  },
  {
   "cell_type": "code",
   "execution_count": 26,
   "id": "505313bf",
   "metadata": {},
   "outputs": [
    {
     "data": {
      "text/plain": [
       "False"
      ]
     },
     "execution_count": 26,
     "metadata": {},
     "output_type": "execute_result"
    }
   ],
   "source": [
    "string1=\" uday x code \"\n",
    "\n",
    "string1.isupper()"
   ]
  },
  {
   "cell_type": "code",
   "execution_count": 27,
   "id": "777e132f",
   "metadata": {},
   "outputs": [
    {
     "data": {
      "text/plain": [
       "True"
      ]
     },
     "execution_count": 27,
     "metadata": {},
     "output_type": "execute_result"
    }
   ],
   "source": [
    "string1=\" uday x code \"\n",
    "\n",
    "string1.islower()"
   ]
  },
  {
   "cell_type": "markdown",
   "id": "001db2d0",
   "metadata": {},
   "source": [
    "Check if the string is composed of only digits"
   ]
  },
  {
   "cell_type": "code",
   "execution_count": 28,
   "id": "9f68a3c9",
   "metadata": {},
   "outputs": [
    {
     "name": "stdout",
     "output_type": "stream",
     "text": [
      "True\n"
     ]
    }
   ],
   "source": [
    "numeric_string = \"123\"\n",
    "print(numeric_string.isdigit())"
   ]
  },
  {
   "cell_type": "code",
   "execution_count": 29,
   "id": "fa01f8e6",
   "metadata": {},
   "outputs": [
    {
     "name": "stdout",
     "output_type": "stream",
     "text": [
      "False\n"
     ]
    }
   ],
   "source": [
    "numeric_string = \"123codexudaya\"\n",
    "print(numeric_string.isdigit())"
   ]
  },
  {
   "cell_type": "code",
   "execution_count": null,
   "id": "53997b3a",
   "metadata": {},
   "outputs": [],
   "source": []
  },
  {
   "cell_type": "markdown",
   "id": "1664c0f8",
   "metadata": {},
   "source": [
    "# codeXudaya\n",
    "\n",
    "[Subscribe to CodeXudaya on YouTube](https://www.youtube.com/@codeXudaya) \n",
    "-------------------------------------------------------------------------\n",
    "[Follow CodeXudaya on Instagram](https://www.instagram.com/codexudaya/)\n",
    "-------------------------------------------------------------------------"
   ]
  }
 ],
 "metadata": {
  "kernelspec": {
   "display_name": "Python 3 (ipykernel)",
   "language": "python",
   "name": "python3"
  },
  "language_info": {
   "codemirror_mode": {
    "name": "ipython",
    "version": 3
   },
   "file_extension": ".py",
   "mimetype": "text/x-python",
   "name": "python",
   "nbconvert_exporter": "python",
   "pygments_lexer": "ipython3",
   "version": "3.11.5"
  }
 },
 "nbformat": 4,
 "nbformat_minor": 5
}
