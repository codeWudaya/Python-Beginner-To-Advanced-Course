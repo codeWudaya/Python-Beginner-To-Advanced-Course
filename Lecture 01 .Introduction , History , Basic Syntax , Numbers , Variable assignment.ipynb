{
 "cells": [
  {
   "cell_type": "markdown",
   "id": "0056884a",
   "metadata": {},
   "source": [
    "# <a href='https://www.youtube.com/@codeXudaya'><img src='CodeXudaya.png'/></a>\n",
    "___\n",
    "<center><em>Content Copyright by codeXudaya</em></center>"
   ]
  },
  {
   "cell_type": "markdown",
   "id": "13c98add",
   "metadata": {},
   "source": [
    "# Lecture 1 \n",
    "# Python Beginner to Expert"
   ]
  },
  {
   "cell_type": "markdown",
   "id": "3d936c21",
   "metadata": {},
   "source": [
    "# Introduction-----------------------------------\n",
    "* Python is a high-level, interpreted programming language known for its readability and versatility.\n",
    "* Guido van Rossum is the Father of Python\n",
    "* Let's explore its history.\n",
    "# History-------------------------------\n",
    "\n",
    "## 1. The Beginning - 1989\n",
    "- Guido van Rossum started working on Python in December 1989.\n",
    "- Python 0.9.0 was released in February 1991.\n",
    "\n",
    "## 2. Python 2 - 2000\n",
    "- Python 2.0 was released in October 2000.\n",
    "- It introduced list comprehensions, garbage collection, and Unicode support.\n",
    "\n",
    "## 3. Python 3 - 2008\n",
    "- Python 3.0 (also known as \"Python 3000\" and \"Py3k\") was released in December 2008.\n",
    "- Key changes included a new syntax, better Unicode support, and various other improvements.\n",
    "- However, it was not backward compatible with Python 2.\n",
    "\n",
    "## 4. Jupyter Notebooks - 2014\n",
    "- Project Jupyter was born out of IPython in 2014.\n",
    "- Jupyter notebooks allow the combination of code, text, and multimedia in a single interactive document.\n",
    "\n",
    "## 5. Python's Popularity\n",
    "- Python has gained immense popularity in various domains, including web development, data science, machine learning, and more.\n",
    "- It is known for its simplicity, readability, and a vast ecosystem of libraries.\n",
    "\n",
    "## 6. Python 3.5+ - 2015 Onwards\n",
    "- Python has continued to evolve with regular releases.\n",
    "- Features like type hints (introduced in Python 3.5) and the `async` and `await` keywords have been added.\n",
    "\n",
    "## 7. Python 3.9 - 2020\n",
    "- Python 3.9, released in October 2020, included various optimizations and new features.\n",
    "\n",
    "## 8. Current State - 2023\n",
    "- As of 19 Nov 2023, the latest version of Python is 3.12.0.\n",
    "-  which was released on 2 Oct 2023\n",
    "# Conclusion\n",
    "Python's history is a testament to its adaptability and community-driven development. Jupyter notebooks, with their interactive and multimedia capabilities, have become an integral part of the Python ecosystem."
   ]
  },
  {
   "cell_type": "markdown",
   "id": "07f839e0",
   "metadata": {},
   "source": [
    "# Basic Syntax-------------------------------------------"
   ]
  },
  {
   "cell_type": "markdown",
   "id": "45d5d324",
   "metadata": {},
   "source": [
    "# Comment"
   ]
  },
  {
   "cell_type": "markdown",
   "id": "45a448b3",
   "metadata": {},
   "source": [
    "single-line Comment #"
   ]
  },
  {
   "cell_type": "code",
   "execution_count": 12,
   "id": "89c8b771",
   "metadata": {},
   "outputs": [],
   "source": [
    "#codeXudaya"
   ]
  },
  {
   "cell_type": "markdown",
   "id": "2ec2311f",
   "metadata": {},
   "source": [
    "multi-line Comment ''' '''"
   ]
  },
  {
   "cell_type": "code",
   "execution_count": 14,
   "id": "d52e8e6a",
   "metadata": {},
   "outputs": [
    {
     "data": {
      "text/plain": [
       "'\\ncode\\nx\\nudaya\\n'"
      ]
     },
     "execution_count": 14,
     "metadata": {},
     "output_type": "execute_result"
    }
   ],
   "source": [
    "\"\"\"\n",
    "code\n",
    "x\n",
    "udaya\n",
    "\"\"\""
   ]
  },
  {
   "cell_type": "markdown",
   "id": "f1ae7db3",
   "metadata": {},
   "source": [
    "# We'll learn the following topics in this lecture:\n",
    "\n",
    "    1.) Types of Numbers in Python\n",
    "    2.) Basic Arithmetic\n",
    "    3.) Object Assignment in Python"
   ]
  },
  {
   "cell_type": "markdown",
   "id": "8450888b",
   "metadata": {},
   "source": [
    "# Number in Python!\n",
    "# Types of numbers\n",
    "<table>\n",
    "<tr>\n",
    "    <th>Examples</th> \n",
    "    <th>Number \"Type\"</th>\n",
    "</tr>\n",
    "\n",
    "<tr>\n",
    "    <td>10,12,-2</td>\n",
    "    <td>Integers</td> \n",
    "</tr>\n",
    "\n",
    "<tr>\n",
    "    <td>7.2,-0.21</td> \n",
    "    <td>Floating-point numbers</td> \n",
    "</tr>\n",
    " </table>"
   ]
  },
  {
   "cell_type": "code",
   "execution_count": 15,
   "id": "41719b53",
   "metadata": {},
   "outputs": [],
   "source": [
    "# 20.2 67.7 99"
   ]
  },
  {
   "cell_type": "markdown",
   "id": "cdc6e99a",
   "metadata": {},
   "source": [
    "### Basic Arithmetic"
   ]
  },
  {
   "cell_type": "markdown",
   "id": "9c3d00fa",
   "metadata": {},
   "source": [
    "Addition +"
   ]
  },
  {
   "cell_type": "code",
   "execution_count": 16,
   "id": "40944e0e",
   "metadata": {},
   "outputs": [
    {
     "data": {
      "text/plain": [
       "5"
      ]
     },
     "execution_count": 16,
     "metadata": {},
     "output_type": "execute_result"
    }
   ],
   "source": [
    "2+3"
   ]
  },
  {
   "cell_type": "markdown",
   "id": "3912f2e9",
   "metadata": {},
   "source": [
    "Subtraction -"
   ]
  },
  {
   "cell_type": "code",
   "execution_count": 17,
   "id": "23a1c38f",
   "metadata": {},
   "outputs": [
    {
     "data": {
      "text/plain": [
       "-1"
      ]
     },
     "execution_count": 17,
     "metadata": {},
     "output_type": "execute_result"
    }
   ],
   "source": [
    "2-3"
   ]
  },
  {
   "cell_type": "markdown",
   "id": "74cdcbab",
   "metadata": {},
   "source": [
    "Multiplication *"
   ]
  },
  {
   "cell_type": "code",
   "execution_count": 18,
   "id": "e76b4375",
   "metadata": {},
   "outputs": [
    {
     "data": {
      "text/plain": [
       "6"
      ]
     },
     "execution_count": 18,
     "metadata": {},
     "output_type": "execute_result"
    }
   ],
   "source": [
    "2*3"
   ]
  },
  {
   "cell_type": "markdown",
   "id": "136d44e6",
   "metadata": {},
   "source": [
    "Division /"
   ]
  },
  {
   "cell_type": "code",
   "execution_count": 24,
   "id": "4353fd02",
   "metadata": {
    "scrolled": true
   },
   "outputs": [
    {
     "data": {
      "text/plain": [
       "2.4"
      ]
     },
     "execution_count": 24,
     "metadata": {},
     "output_type": "execute_result"
    }
   ],
   "source": [
    "12/5"
   ]
  },
  {
   "cell_type": "code",
   "execution_count": 26,
   "id": "63333fbd",
   "metadata": {},
   "outputs": [
    {
     "data": {
      "text/plain": [
       "1.75"
      ]
     },
     "execution_count": 26,
     "metadata": {},
     "output_type": "execute_result"
    }
   ],
   "source": [
    "7/4"
   ]
  },
  {
   "cell_type": "markdown",
   "id": "39733685",
   "metadata": {},
   "source": [
    "Floor Division //\n"
   ]
  },
  {
   "cell_type": "code",
   "execution_count": 23,
   "id": "dcf04e45",
   "metadata": {
    "scrolled": true
   },
   "outputs": [
    {
     "data": {
      "text/plain": [
       "2"
      ]
     },
     "execution_count": 23,
     "metadata": {},
     "output_type": "execute_result"
    }
   ],
   "source": [
    "12//5"
   ]
  },
  {
   "cell_type": "code",
   "execution_count": 27,
   "id": "9e8e03c6",
   "metadata": {},
   "outputs": [
    {
     "data": {
      "text/plain": [
       "1"
      ]
     },
     "execution_count": 27,
     "metadata": {},
     "output_type": "execute_result"
    }
   ],
   "source": [
    "7//4"
   ]
  },
  {
   "cell_type": "markdown",
   "id": "6f4d3d67",
   "metadata": {},
   "source": [
    "remainder after division?\n",
    "Modulo"
   ]
  },
  {
   "cell_type": "code",
   "execution_count": 25,
   "id": "28eb3a0a",
   "metadata": {},
   "outputs": [
    {
     "data": {
      "text/plain": [
       "3"
      ]
     },
     "execution_count": 25,
     "metadata": {},
     "output_type": "execute_result"
    }
   ],
   "source": [
    "7%4"
   ]
  },
  {
   "cell_type": "code",
   "execution_count": 1,
   "id": "cc43dfe3",
   "metadata": {},
   "outputs": [
    {
     "ename": "SyntaxError",
     "evalue": "invalid syntax (3263201935.py, line 1)",
     "output_type": "error",
     "traceback": [
      "\u001b[1;36m  Cell \u001b[1;32mIn[1], line 1\u001b[1;36m\u001b[0m\n\u001b[1;33m    4 goes into 7 once, with a remainder of 3. The % operator returns the remainder after division.\u001b[0m\n\u001b[1;37m      ^\u001b[0m\n\u001b[1;31mSyntaxError\u001b[0m\u001b[1;31m:\u001b[0m invalid syntax\n"
     ]
    }
   ],
   "source": [
    "4 goes into 7 once, with a remainder of 3. The % operator returns the remainder after division."
   ]
  },
  {
   "cell_type": "markdown",
   "id": "4ae66605",
   "metadata": {},
   "source": [
    "### Arithmetic continued ..."
   ]
  },
  {
   "cell_type": "markdown",
   "id": "8bc7b292",
   "metadata": {},
   "source": [
    "Powers **"
   ]
  },
  {
   "cell_type": "code",
   "execution_count": 28,
   "id": "864609b0",
   "metadata": {},
   "outputs": [
    {
     "data": {
      "text/plain": [
       "8"
      ]
     },
     "execution_count": 28,
     "metadata": {},
     "output_type": "execute_result"
    }
   ],
   "source": [
    "2**3"
   ]
  },
  {
   "cell_type": "code",
   "execution_count": 29,
   "id": "8a65f71e",
   "metadata": {},
   "outputs": [
    {
     "data": {
      "text/plain": [
       "65536"
      ]
     },
     "execution_count": 29,
     "metadata": {},
     "output_type": "execute_result"
    }
   ],
   "source": [
    "4**8"
   ]
  },
  {
   "cell_type": "markdown",
   "id": "df4612b9",
   "metadata": {},
   "source": [
    "Can also do roots this way **0.5"
   ]
  },
  {
   "cell_type": "code",
   "execution_count": 30,
   "id": "65fbc74c",
   "metadata": {},
   "outputs": [
    {
     "data": {
      "text/plain": [
       "10.0"
      ]
     },
     "execution_count": 30,
     "metadata": {},
     "output_type": "execute_result"
    }
   ],
   "source": [
    "100**0.5"
   ]
  },
  {
   "cell_type": "markdown",
   "id": "c3bf1e49",
   "metadata": {},
   "source": [
    "## Assigning Variables\n",
    "Variable assignment follows `name = object`, where a single equals sign `=` is an *assignment operator*"
   ]
  },
  {
   "cell_type": "code",
   "execution_count": 31,
   "id": "2d4e8ef3",
   "metadata": {},
   "outputs": [],
   "source": [
    "a = 6"
   ]
  },
  {
   "cell_type": "code",
   "execution_count": 32,
   "id": "afe4a023",
   "metadata": {},
   "outputs": [
    {
     "data": {
      "text/plain": [
       "6"
      ]
     },
     "execution_count": 32,
     "metadata": {},
     "output_type": "execute_result"
    }
   ],
   "source": [
    "a"
   ]
  },
  {
   "cell_type": "markdown",
   "id": "4004e9f5",
   "metadata": {},
   "source": [
    "Now call a"
   ]
  },
  {
   "cell_type": "code",
   "execution_count": 33,
   "id": "dee8ffe3",
   "metadata": {},
   "outputs": [
    {
     "data": {
      "text/plain": [
       "12"
      ]
     },
     "execution_count": 33,
     "metadata": {},
     "output_type": "execute_result"
    }
   ],
   "source": [
    "a+a"
   ]
  },
  {
   "cell_type": "markdown",
   "id": "b46216fa",
   "metadata": {},
   "source": [
    "add a+a"
   ]
  },
  {
   "cell_type": "code",
   "execution_count": 34,
   "id": "a7ec22b1",
   "metadata": {},
   "outputs": [],
   "source": [
    "a=10"
   ]
  },
  {
   "cell_type": "code",
   "execution_count": 35,
   "id": "1e6df489",
   "metadata": {},
   "outputs": [
    {
     "data": {
      "text/plain": [
       "10"
      ]
     },
     "execution_count": 35,
     "metadata": {},
     "output_type": "execute_result"
    }
   ],
   "source": [
    "a"
   ]
  },
  {
   "cell_type": "markdown",
   "id": "350263c1",
   "metadata": {},
   "source": [
    "You can now use `a` in place of the number `10`:"
   ]
  },
  {
   "cell_type": "code",
   "execution_count": 36,
   "id": "43715fb7",
   "metadata": {},
   "outputs": [
    {
     "data": {
      "text/plain": [
       "100"
      ]
     },
     "execution_count": 36,
     "metadata": {},
     "output_type": "execute_result"
    }
   ],
   "source": [
    "a+90"
   ]
  },
  {
   "cell_type": "markdown",
   "id": "9498b454",
   "metadata": {},
   "source": [
    "## Reassigning Variables\n",
    "Python lets you reassign variables with a reference to the same object."
   ]
  },
  {
   "cell_type": "code",
   "execution_count": 38,
   "id": "2b6e7a4d",
   "metadata": {},
   "outputs": [
    {
     "data": {
      "text/plain": [
       "80"
      ]
     },
     "execution_count": 38,
     "metadata": {},
     "output_type": "execute_result"
    }
   ],
   "source": [
    "a=80\n",
    "a"
   ]
  },
  {
   "cell_type": "code",
   "execution_count": 39,
   "id": "f8fb1f56",
   "metadata": {},
   "outputs": [],
   "source": [
    "a=60"
   ]
  },
  {
   "cell_type": "code",
   "execution_count": 40,
   "id": "fd6d64e4",
   "metadata": {},
   "outputs": [
    {
     "data": {
      "text/plain": [
       "60"
      ]
     },
     "execution_count": 40,
     "metadata": {},
     "output_type": "execute_result"
    }
   ],
   "source": [
    "a"
   ]
  },
  {
   "cell_type": "markdown",
   "id": "09ca4317",
   "metadata": {},
   "source": [
    "Python lets you add, subtract, multiply and divide numbers with reassignment using `+=`, `-=`, `*=`, and `/=`."
   ]
  },
  {
   "cell_type": "code",
   "execution_count": 44,
   "id": "86422712",
   "metadata": {},
   "outputs": [
    {
     "data": {
      "text/plain": [
       "2"
      ]
     },
     "execution_count": 44,
     "metadata": {},
     "output_type": "execute_result"
    }
   ],
   "source": [
    "a=1\n",
    "a=a+1\n",
    "a"
   ]
  },
  {
   "cell_type": "code",
   "execution_count": 48,
   "id": "6b492bac",
   "metadata": {},
   "outputs": [
    {
     "data": {
      "text/plain": [
       "6"
      ]
     },
     "execution_count": 48,
     "metadata": {},
     "output_type": "execute_result"
    }
   ],
   "source": [
    "# +=\n",
    "a+=1\n",
    "a"
   ]
  },
  {
   "cell_type": "code",
   "execution_count": 49,
   "id": "74fdeaa5",
   "metadata": {},
   "outputs": [],
   "source": [
    "a=4"
   ]
  },
  {
   "cell_type": "code",
   "execution_count": 6,
   "id": "a6135e9a",
   "metadata": {},
   "outputs": [],
   "source": [
    "# -= a-=1 ==== a=a-1"
   ]
  },
  {
   "cell_type": "code",
   "execution_count": 54,
   "id": "cf08ab5e",
   "metadata": {},
   "outputs": [
    {
     "data": {
      "text/plain": [
       "-1"
      ]
     },
     "execution_count": 54,
     "metadata": {},
     "output_type": "execute_result"
    }
   ],
   "source": [
    "a-=1\n",
    "a"
   ]
  },
  {
   "cell_type": "code",
   "execution_count": 7,
   "id": "42779870",
   "metadata": {},
   "outputs": [],
   "source": [
    "# *="
   ]
  },
  {
   "cell_type": "code",
   "execution_count": 56,
   "id": "5d2a1ec7",
   "metadata": {},
   "outputs": [
    {
     "data": {
      "text/plain": [
       "4"
      ]
     },
     "execution_count": 56,
     "metadata": {},
     "output_type": "execute_result"
    }
   ],
   "source": [
    "a=2\n",
    "a*=2\n",
    "a"
   ]
  },
  {
   "cell_type": "code",
   "execution_count": null,
   "id": "581c0e5c",
   "metadata": {},
   "outputs": [],
   "source": []
  },
  {
   "cell_type": "code",
   "execution_count": 8,
   "id": "4fe9a19a",
   "metadata": {},
   "outputs": [],
   "source": [
    "# /="
   ]
  },
  {
   "cell_type": "code",
   "execution_count": 57,
   "id": "f7884ade",
   "metadata": {},
   "outputs": [
    {
     "data": {
      "text/plain": [
       "1.0"
      ]
     },
     "execution_count": 57,
     "metadata": {},
     "output_type": "execute_result"
    }
   ],
   "source": [
    "a=2\n",
    "a /= 2\n",
    "a"
   ]
  },
  {
   "cell_type": "markdown",
   "id": "a7281306",
   "metadata": {},
   "source": [
    "# Simple Exercise\n",
    "WAP ,my income is 200 my tax rate is 0.1 .calculate my tax?"
   ]
  },
  {
   "cell_type": "code",
   "execution_count": 59,
   "id": "0850d8c5",
   "metadata": {},
   "outputs": [
    {
     "data": {
      "text/plain": [
       "20.0"
      ]
     },
     "execution_count": 59,
     "metadata": {},
     "output_type": "execute_result"
    }
   ],
   "source": [
    "my_income = 200\n",
    "tax_rate = 0.1\n",
    "tax = my_income * tax_rate\n",
    "tax"
   ]
  },
  {
   "cell_type": "markdown",
   "id": "ecd57118",
   "metadata": {},
   "source": [
    "Great! now We understand the basics of python including comments numbers variable assignment and reassignment in Python.<br>Up next, we'll learn ... in python"
   ]
  },
  {
   "cell_type": "markdown",
   "id": "5d8e0404",
   "metadata": {},
   "source": [
    "# codeXudaya\n",
    "\n",
    "[Subscribe to CodeXudaya on YouTube](https://www.youtube.com/@codeXudaya) \n",
    "-------------------------------------------------------------------------\n",
    "[Follow CodeXudaya on Instagram](https://www.instagram.com/codexudaya/)\n",
    "-------------------------------------------------------------------------"
   ]
  }
 ],
 "metadata": {
  "kernelspec": {
   "display_name": "Python 3 (ipykernel)",
   "language": "python",
   "name": "python3"
  },
  "language_info": {
   "codemirror_mode": {
    "name": "ipython",
    "version": 3
   },
   "file_extension": ".py",
   "mimetype": "text/x-python",
   "name": "python",
   "nbconvert_exporter": "python",
   "pygments_lexer": "ipython3",
   "version": "3.11.5"
  }
 },
 "nbformat": 4,
 "nbformat_minor": 5
}
